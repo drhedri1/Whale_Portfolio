{
 "cells": [
  {
   "cell_type": "markdown",
   "metadata": {},
   "source": [
    " #  A Whale off the Port(folio)\n",
    " ---\n",
    "\n",
    " In this assignment, you'll get to use what you've learned this week to evaluate the performance among various algorithmic, hedge, and mutual fund portfolios and compare them against the S&P 500 Index."
   ]
  },
  {
   "cell_type": "code",
   "execution_count": 6,
   "metadata": {},
   "outputs": [],
   "source": [
    "# Initial imports\n",
    "import pandas as pd\n",
    "import numpy as np\n",
    "import datetime as dt\n",
    "from pathlib import Path\n",
    "\n",
    "%matplotlib inline"
   ]
  },
  {
   "cell_type": "markdown",
   "metadata": {},
   "source": [
    "# Data Cleaning\n",
    "\n",
    "In this section, you will need to read the CSV files into DataFrames and perform any necessary data cleaning steps. After cleaning, combine all DataFrames into a single DataFrame.\n",
    "\n",
    "Files:\n",
    "\n",
    "* `whale_returns.csv`: Contains returns of some famous \"whale\" investors' portfolios.\n",
    "\n",
    "* `algo_returns.csv`: Contains returns from the in-house trading algorithms from Harold's company.\n",
    "\n",
    "* `sp500_history.csv`: Contains historical closing prices of the S&P 500 Index."
   ]
  },
  {
   "cell_type": "markdown",
   "metadata": {},
   "source": [
    "## Whale Returns\n",
    "\n",
    "Read the Whale Portfolio daily returns and clean the data"
   ]
  },
  {
   "cell_type": "code",
   "execution_count": 7,
   "metadata": {},
   "outputs": [
    {
     "data": {
      "text/html": [
       "<div>\n",
       "<style scoped>\n",
       "    .dataframe tbody tr th:only-of-type {\n",
       "        vertical-align: middle;\n",
       "    }\n",
       "\n",
       "    .dataframe tbody tr th {\n",
       "        vertical-align: top;\n",
       "    }\n",
       "\n",
       "    .dataframe thead th {\n",
       "        text-align: right;\n",
       "    }\n",
       "</style>\n",
       "<table border=\"1\" class=\"dataframe\">\n",
       "  <thead>\n",
       "    <tr style=\"text-align: right;\">\n",
       "      <th></th>\n",
       "      <th>Date</th>\n",
       "      <th>SOROS FUND MANAGEMENT LLC</th>\n",
       "      <th>PAULSON &amp; CO.INC.</th>\n",
       "      <th>TIGER GLOBAL MANAGEMENT LLC</th>\n",
       "      <th>BERKSHIRE HATHAWAY INC</th>\n",
       "    </tr>\n",
       "  </thead>\n",
       "  <tbody>\n",
       "    <tr>\n",
       "      <th>0</th>\n",
       "      <td>2015-03-02</td>\n",
       "      <td>NaN</td>\n",
       "      <td>NaN</td>\n",
       "      <td>NaN</td>\n",
       "      <td>NaN</td>\n",
       "    </tr>\n",
       "    <tr>\n",
       "      <th>1</th>\n",
       "      <td>2015-03-03</td>\n",
       "      <td>-0.001266</td>\n",
       "      <td>-0.004981</td>\n",
       "      <td>-0.000496</td>\n",
       "      <td>-0.006569</td>\n",
       "    </tr>\n",
       "    <tr>\n",
       "      <th>2</th>\n",
       "      <td>2015-03-04</td>\n",
       "      <td>0.002230</td>\n",
       "      <td>0.003241</td>\n",
       "      <td>-0.002534</td>\n",
       "      <td>0.004213</td>\n",
       "    </tr>\n",
       "    <tr>\n",
       "      <th>3</th>\n",
       "      <td>2015-03-05</td>\n",
       "      <td>0.004016</td>\n",
       "      <td>0.004076</td>\n",
       "      <td>0.002355</td>\n",
       "      <td>0.006726</td>\n",
       "    </tr>\n",
       "    <tr>\n",
       "      <th>4</th>\n",
       "      <td>2015-03-06</td>\n",
       "      <td>-0.007905</td>\n",
       "      <td>-0.003574</td>\n",
       "      <td>-0.008481</td>\n",
       "      <td>-0.013098</td>\n",
       "    </tr>\n",
       "    <tr>\n",
       "      <th>...</th>\n",
       "      <td>...</td>\n",
       "      <td>...</td>\n",
       "      <td>...</td>\n",
       "      <td>...</td>\n",
       "      <td>...</td>\n",
       "    </tr>\n",
       "    <tr>\n",
       "      <th>1055</th>\n",
       "      <td>2019-04-25</td>\n",
       "      <td>-0.000285</td>\n",
       "      <td>-0.001291</td>\n",
       "      <td>-0.005153</td>\n",
       "      <td>0.004848</td>\n",
       "    </tr>\n",
       "    <tr>\n",
       "      <th>1056</th>\n",
       "      <td>2019-04-26</td>\n",
       "      <td>0.008149</td>\n",
       "      <td>0.009162</td>\n",
       "      <td>0.012355</td>\n",
       "      <td>0.010434</td>\n",
       "    </tr>\n",
       "    <tr>\n",
       "      <th>1057</th>\n",
       "      <td>2019-04-29</td>\n",
       "      <td>0.001254</td>\n",
       "      <td>0.002719</td>\n",
       "      <td>0.006251</td>\n",
       "      <td>0.005223</td>\n",
       "    </tr>\n",
       "    <tr>\n",
       "      <th>1058</th>\n",
       "      <td>2019-04-30</td>\n",
       "      <td>-0.001295</td>\n",
       "      <td>-0.002211</td>\n",
       "      <td>-0.000259</td>\n",
       "      <td>-0.003702</td>\n",
       "    </tr>\n",
       "    <tr>\n",
       "      <th>1059</th>\n",
       "      <td>2019-05-01</td>\n",
       "      <td>-0.005847</td>\n",
       "      <td>-0.001341</td>\n",
       "      <td>-0.007936</td>\n",
       "      <td>-0.007833</td>\n",
       "    </tr>\n",
       "  </tbody>\n",
       "</table>\n",
       "<p>1060 rows × 5 columns</p>\n",
       "</div>"
      ],
      "text/plain": [
       "            Date  SOROS FUND MANAGEMENT LLC  PAULSON & CO.INC.   \\\n",
       "0     2015-03-02                        NaN                 NaN   \n",
       "1     2015-03-03                  -0.001266           -0.004981   \n",
       "2     2015-03-04                   0.002230            0.003241   \n",
       "3     2015-03-05                   0.004016            0.004076   \n",
       "4     2015-03-06                  -0.007905           -0.003574   \n",
       "...          ...                        ...                 ...   \n",
       "1055  2019-04-25                  -0.000285           -0.001291   \n",
       "1056  2019-04-26                   0.008149            0.009162   \n",
       "1057  2019-04-29                   0.001254            0.002719   \n",
       "1058  2019-04-30                  -0.001295           -0.002211   \n",
       "1059  2019-05-01                  -0.005847           -0.001341   \n",
       "\n",
       "      TIGER GLOBAL MANAGEMENT LLC  BERKSHIRE HATHAWAY INC  \n",
       "0                             NaN                     NaN  \n",
       "1                       -0.000496               -0.006569  \n",
       "2                       -0.002534                0.004213  \n",
       "3                        0.002355                0.006726  \n",
       "4                       -0.008481               -0.013098  \n",
       "...                           ...                     ...  \n",
       "1055                    -0.005153                0.004848  \n",
       "1056                     0.012355                0.010434  \n",
       "1057                     0.006251                0.005223  \n",
       "1058                    -0.000259               -0.003702  \n",
       "1059                    -0.007936               -0.007833  \n",
       "\n",
       "[1060 rows x 5 columns]"
      ]
     },
     "execution_count": 7,
     "metadata": {},
     "output_type": "execute_result"
    }
   ],
   "source": [
    "# Reading whale returns\n",
    "csvpath = Path(\"./Resources/whale_returns.csv\")\n",
    "whale_data = pd.read_csv(csvpath)\n",
    "\n",
    "whale_data"
   ]
  },
  {
   "cell_type": "code",
   "execution_count": 8,
   "metadata": {},
   "outputs": [
    {
     "data": {
      "text/plain": [
       "Date                           0\n",
       "SOROS FUND MANAGEMENT LLC      1\n",
       "PAULSON & CO.INC.              1\n",
       "TIGER GLOBAL MANAGEMENT LLC    1\n",
       "BERKSHIRE HATHAWAY INC         1\n",
       "dtype: int64"
      ]
     },
     "execution_count": 8,
     "metadata": {},
     "output_type": "execute_result"
    }
   ],
   "source": [
    "# Count nulls\n",
    "whale_data.isnull().sum()"
   ]
  },
  {
   "cell_type": "code",
   "execution_count": 9,
   "metadata": {},
   "outputs": [
    {
     "data": {
      "text/html": [
       "<div>\n",
       "<style scoped>\n",
       "    .dataframe tbody tr th:only-of-type {\n",
       "        vertical-align: middle;\n",
       "    }\n",
       "\n",
       "    .dataframe tbody tr th {\n",
       "        vertical-align: top;\n",
       "    }\n",
       "\n",
       "    .dataframe thead th {\n",
       "        text-align: right;\n",
       "    }\n",
       "</style>\n",
       "<table border=\"1\" class=\"dataframe\">\n",
       "  <thead>\n",
       "    <tr style=\"text-align: right;\">\n",
       "      <th></th>\n",
       "      <th>Date</th>\n",
       "      <th>SOROS FUND MANAGEMENT LLC</th>\n",
       "      <th>PAULSON &amp; CO.INC.</th>\n",
       "      <th>TIGER GLOBAL MANAGEMENT LLC</th>\n",
       "      <th>BERKSHIRE HATHAWAY INC</th>\n",
       "    </tr>\n",
       "  </thead>\n",
       "  <tbody>\n",
       "    <tr>\n",
       "      <th>1</th>\n",
       "      <td>2015-03-03</td>\n",
       "      <td>-0.001266</td>\n",
       "      <td>-0.004981</td>\n",
       "      <td>-0.000496</td>\n",
       "      <td>-0.006569</td>\n",
       "    </tr>\n",
       "    <tr>\n",
       "      <th>2</th>\n",
       "      <td>2015-03-04</td>\n",
       "      <td>0.002230</td>\n",
       "      <td>0.003241</td>\n",
       "      <td>-0.002534</td>\n",
       "      <td>0.004213</td>\n",
       "    </tr>\n",
       "    <tr>\n",
       "      <th>3</th>\n",
       "      <td>2015-03-05</td>\n",
       "      <td>0.004016</td>\n",
       "      <td>0.004076</td>\n",
       "      <td>0.002355</td>\n",
       "      <td>0.006726</td>\n",
       "    </tr>\n",
       "    <tr>\n",
       "      <th>4</th>\n",
       "      <td>2015-03-06</td>\n",
       "      <td>-0.007905</td>\n",
       "      <td>-0.003574</td>\n",
       "      <td>-0.008481</td>\n",
       "      <td>-0.013098</td>\n",
       "    </tr>\n",
       "    <tr>\n",
       "      <th>5</th>\n",
       "      <td>2015-03-09</td>\n",
       "      <td>0.000582</td>\n",
       "      <td>0.004225</td>\n",
       "      <td>0.005843</td>\n",
       "      <td>-0.001652</td>\n",
       "    </tr>\n",
       "    <tr>\n",
       "      <th>...</th>\n",
       "      <td>...</td>\n",
       "      <td>...</td>\n",
       "      <td>...</td>\n",
       "      <td>...</td>\n",
       "      <td>...</td>\n",
       "    </tr>\n",
       "    <tr>\n",
       "      <th>1055</th>\n",
       "      <td>2019-04-25</td>\n",
       "      <td>-0.000285</td>\n",
       "      <td>-0.001291</td>\n",
       "      <td>-0.005153</td>\n",
       "      <td>0.004848</td>\n",
       "    </tr>\n",
       "    <tr>\n",
       "      <th>1056</th>\n",
       "      <td>2019-04-26</td>\n",
       "      <td>0.008149</td>\n",
       "      <td>0.009162</td>\n",
       "      <td>0.012355</td>\n",
       "      <td>0.010434</td>\n",
       "    </tr>\n",
       "    <tr>\n",
       "      <th>1057</th>\n",
       "      <td>2019-04-29</td>\n",
       "      <td>0.001254</td>\n",
       "      <td>0.002719</td>\n",
       "      <td>0.006251</td>\n",
       "      <td>0.005223</td>\n",
       "    </tr>\n",
       "    <tr>\n",
       "      <th>1058</th>\n",
       "      <td>2019-04-30</td>\n",
       "      <td>-0.001295</td>\n",
       "      <td>-0.002211</td>\n",
       "      <td>-0.000259</td>\n",
       "      <td>-0.003702</td>\n",
       "    </tr>\n",
       "    <tr>\n",
       "      <th>1059</th>\n",
       "      <td>2019-05-01</td>\n",
       "      <td>-0.005847</td>\n",
       "      <td>-0.001341</td>\n",
       "      <td>-0.007936</td>\n",
       "      <td>-0.007833</td>\n",
       "    </tr>\n",
       "  </tbody>\n",
       "</table>\n",
       "<p>1059 rows × 5 columns</p>\n",
       "</div>"
      ],
      "text/plain": [
       "            Date  SOROS FUND MANAGEMENT LLC  PAULSON & CO.INC.   \\\n",
       "1     2015-03-03                  -0.001266           -0.004981   \n",
       "2     2015-03-04                   0.002230            0.003241   \n",
       "3     2015-03-05                   0.004016            0.004076   \n",
       "4     2015-03-06                  -0.007905           -0.003574   \n",
       "5     2015-03-09                   0.000582            0.004225   \n",
       "...          ...                        ...                 ...   \n",
       "1055  2019-04-25                  -0.000285           -0.001291   \n",
       "1056  2019-04-26                   0.008149            0.009162   \n",
       "1057  2019-04-29                   0.001254            0.002719   \n",
       "1058  2019-04-30                  -0.001295           -0.002211   \n",
       "1059  2019-05-01                  -0.005847           -0.001341   \n",
       "\n",
       "      TIGER GLOBAL MANAGEMENT LLC  BERKSHIRE HATHAWAY INC  \n",
       "1                       -0.000496               -0.006569  \n",
       "2                       -0.002534                0.004213  \n",
       "3                        0.002355                0.006726  \n",
       "4                       -0.008481               -0.013098  \n",
       "5                        0.005843               -0.001652  \n",
       "...                           ...                     ...  \n",
       "1055                    -0.005153                0.004848  \n",
       "1056                     0.012355                0.010434  \n",
       "1057                     0.006251                0.005223  \n",
       "1058                    -0.000259               -0.003702  \n",
       "1059                    -0.007936               -0.007833  \n",
       "\n",
       "[1059 rows x 5 columns]"
      ]
     },
     "execution_count": 9,
     "metadata": {},
     "output_type": "execute_result"
    }
   ],
   "source": [
    "# Drop nulls\n",
    "whale_data = whale_data.dropna()\n",
    "whale_data"
   ]
  },
  {
   "cell_type": "markdown",
   "metadata": {},
   "source": [
    "## Algorithmic Daily Returns\n",
    "\n",
    "Read the algorithmic daily returns and clean the data"
   ]
  },
  {
   "cell_type": "code",
   "execution_count": 10,
   "metadata": {},
   "outputs": [
    {
     "data": {
      "text/html": [
       "<div>\n",
       "<style scoped>\n",
       "    .dataframe tbody tr th:only-of-type {\n",
       "        vertical-align: middle;\n",
       "    }\n",
       "\n",
       "    .dataframe tbody tr th {\n",
       "        vertical-align: top;\n",
       "    }\n",
       "\n",
       "    .dataframe thead th {\n",
       "        text-align: right;\n",
       "    }\n",
       "</style>\n",
       "<table border=\"1\" class=\"dataframe\">\n",
       "  <thead>\n",
       "    <tr style=\"text-align: right;\">\n",
       "      <th></th>\n",
       "      <th>Date</th>\n",
       "      <th>Algo 1</th>\n",
       "      <th>Algo 2</th>\n",
       "    </tr>\n",
       "  </thead>\n",
       "  <tbody>\n",
       "    <tr>\n",
       "      <th>0</th>\n",
       "      <td>2014-05-28</td>\n",
       "      <td>0.001745</td>\n",
       "      <td>NaN</td>\n",
       "    </tr>\n",
       "    <tr>\n",
       "      <th>1</th>\n",
       "      <td>2014-05-29</td>\n",
       "      <td>0.003978</td>\n",
       "      <td>NaN</td>\n",
       "    </tr>\n",
       "    <tr>\n",
       "      <th>2</th>\n",
       "      <td>2014-05-30</td>\n",
       "      <td>0.004464</td>\n",
       "      <td>NaN</td>\n",
       "    </tr>\n",
       "    <tr>\n",
       "      <th>3</th>\n",
       "      <td>2014-06-02</td>\n",
       "      <td>0.005692</td>\n",
       "      <td>NaN</td>\n",
       "    </tr>\n",
       "    <tr>\n",
       "      <th>4</th>\n",
       "      <td>2014-06-03</td>\n",
       "      <td>0.005292</td>\n",
       "      <td>NaN</td>\n",
       "    </tr>\n",
       "    <tr>\n",
       "      <th>...</th>\n",
       "      <td>...</td>\n",
       "      <td>...</td>\n",
       "      <td>...</td>\n",
       "    </tr>\n",
       "    <tr>\n",
       "      <th>1236</th>\n",
       "      <td>2019-04-25</td>\n",
       "      <td>0.000682</td>\n",
       "      <td>-0.007247</td>\n",
       "    </tr>\n",
       "    <tr>\n",
       "      <th>1237</th>\n",
       "      <td>2019-04-26</td>\n",
       "      <td>0.002981</td>\n",
       "      <td>0.005256</td>\n",
       "    </tr>\n",
       "    <tr>\n",
       "      <th>1238</th>\n",
       "      <td>2019-04-29</td>\n",
       "      <td>0.005208</td>\n",
       "      <td>0.002829</td>\n",
       "    </tr>\n",
       "    <tr>\n",
       "      <th>1239</th>\n",
       "      <td>2019-04-30</td>\n",
       "      <td>-0.002944</td>\n",
       "      <td>-0.001570</td>\n",
       "    </tr>\n",
       "    <tr>\n",
       "      <th>1240</th>\n",
       "      <td>2019-05-01</td>\n",
       "      <td>0.000094</td>\n",
       "      <td>-0.007358</td>\n",
       "    </tr>\n",
       "  </tbody>\n",
       "</table>\n",
       "<p>1241 rows × 3 columns</p>\n",
       "</div>"
      ],
      "text/plain": [
       "            Date    Algo 1    Algo 2\n",
       "0     2014-05-28  0.001745       NaN\n",
       "1     2014-05-29  0.003978       NaN\n",
       "2     2014-05-30  0.004464       NaN\n",
       "3     2014-06-02  0.005692       NaN\n",
       "4     2014-06-03  0.005292       NaN\n",
       "...          ...       ...       ...\n",
       "1236  2019-04-25  0.000682 -0.007247\n",
       "1237  2019-04-26  0.002981  0.005256\n",
       "1238  2019-04-29  0.005208  0.002829\n",
       "1239  2019-04-30 -0.002944 -0.001570\n",
       "1240  2019-05-01  0.000094 -0.007358\n",
       "\n",
       "[1241 rows x 3 columns]"
      ]
     },
     "execution_count": 10,
     "metadata": {},
     "output_type": "execute_result"
    }
   ],
   "source": [
    "# Reading algorithmic returns\n",
    "csvpath = Path(\"./Resources/algo_returns.csv\")\n",
    "algo_returns = pd.read_csv(csvpath)\n",
    "\n",
    "algo_returns"
   ]
  },
  {
   "cell_type": "code",
   "execution_count": 11,
   "metadata": {},
   "outputs": [
    {
     "data": {
      "text/plain": [
       "Date      0\n",
       "Algo 1    0\n",
       "Algo 2    6\n",
       "dtype: int64"
      ]
     },
     "execution_count": 11,
     "metadata": {},
     "output_type": "execute_result"
    }
   ],
   "source": [
    "# Count nulls\n",
    "algo_returns.isnull().sum()"
   ]
  },
  {
   "cell_type": "code",
   "execution_count": 12,
   "metadata": {},
   "outputs": [
    {
     "data": {
      "text/html": [
       "<div>\n",
       "<style scoped>\n",
       "    .dataframe tbody tr th:only-of-type {\n",
       "        vertical-align: middle;\n",
       "    }\n",
       "\n",
       "    .dataframe tbody tr th {\n",
       "        vertical-align: top;\n",
       "    }\n",
       "\n",
       "    .dataframe thead th {\n",
       "        text-align: right;\n",
       "    }\n",
       "</style>\n",
       "<table border=\"1\" class=\"dataframe\">\n",
       "  <thead>\n",
       "    <tr style=\"text-align: right;\">\n",
       "      <th></th>\n",
       "      <th>Date</th>\n",
       "      <th>Algo 1</th>\n",
       "      <th>Algo 2</th>\n",
       "    </tr>\n",
       "  </thead>\n",
       "  <tbody>\n",
       "    <tr>\n",
       "      <th>6</th>\n",
       "      <td>2014-06-05</td>\n",
       "      <td>0.004062</td>\n",
       "      <td>0.013285</td>\n",
       "    </tr>\n",
       "    <tr>\n",
       "      <th>7</th>\n",
       "      <td>2014-06-06</td>\n",
       "      <td>0.001857</td>\n",
       "      <td>0.008284</td>\n",
       "    </tr>\n",
       "    <tr>\n",
       "      <th>8</th>\n",
       "      <td>2014-06-09</td>\n",
       "      <td>-0.005012</td>\n",
       "      <td>0.005668</td>\n",
       "    </tr>\n",
       "    <tr>\n",
       "      <th>9</th>\n",
       "      <td>2014-06-10</td>\n",
       "      <td>0.004406</td>\n",
       "      <td>-0.000735</td>\n",
       "    </tr>\n",
       "    <tr>\n",
       "      <th>10</th>\n",
       "      <td>2014-06-11</td>\n",
       "      <td>0.004760</td>\n",
       "      <td>-0.003761</td>\n",
       "    </tr>\n",
       "    <tr>\n",
       "      <th>...</th>\n",
       "      <td>...</td>\n",
       "      <td>...</td>\n",
       "      <td>...</td>\n",
       "    </tr>\n",
       "    <tr>\n",
       "      <th>1236</th>\n",
       "      <td>2019-04-25</td>\n",
       "      <td>0.000682</td>\n",
       "      <td>-0.007247</td>\n",
       "    </tr>\n",
       "    <tr>\n",
       "      <th>1237</th>\n",
       "      <td>2019-04-26</td>\n",
       "      <td>0.002981</td>\n",
       "      <td>0.005256</td>\n",
       "    </tr>\n",
       "    <tr>\n",
       "      <th>1238</th>\n",
       "      <td>2019-04-29</td>\n",
       "      <td>0.005208</td>\n",
       "      <td>0.002829</td>\n",
       "    </tr>\n",
       "    <tr>\n",
       "      <th>1239</th>\n",
       "      <td>2019-04-30</td>\n",
       "      <td>-0.002944</td>\n",
       "      <td>-0.001570</td>\n",
       "    </tr>\n",
       "    <tr>\n",
       "      <th>1240</th>\n",
       "      <td>2019-05-01</td>\n",
       "      <td>0.000094</td>\n",
       "      <td>-0.007358</td>\n",
       "    </tr>\n",
       "  </tbody>\n",
       "</table>\n",
       "<p>1235 rows × 3 columns</p>\n",
       "</div>"
      ],
      "text/plain": [
       "            Date    Algo 1    Algo 2\n",
       "6     2014-06-05  0.004062  0.013285\n",
       "7     2014-06-06  0.001857  0.008284\n",
       "8     2014-06-09 -0.005012  0.005668\n",
       "9     2014-06-10  0.004406 -0.000735\n",
       "10    2014-06-11  0.004760 -0.003761\n",
       "...          ...       ...       ...\n",
       "1236  2019-04-25  0.000682 -0.007247\n",
       "1237  2019-04-26  0.002981  0.005256\n",
       "1238  2019-04-29  0.005208  0.002829\n",
       "1239  2019-04-30 -0.002944 -0.001570\n",
       "1240  2019-05-01  0.000094 -0.007358\n",
       "\n",
       "[1235 rows x 3 columns]"
      ]
     },
     "execution_count": 12,
     "metadata": {},
     "output_type": "execute_result"
    }
   ],
   "source": [
    "# Drop nulls\n",
    "algo_returns =  algo_returns.dropna()\n",
    "algo_returns"
   ]
  },
  {
   "cell_type": "markdown",
   "metadata": {},
   "source": [
    "## S&P 500 Returns\n",
    "\n",
    "Read the S&P 500 historic closing prices and create a new daily returns DataFrame from the data. "
   ]
  },
  {
   "cell_type": "markdown",
   "metadata": {},
   "source": []
  },
  {
   "cell_type": "code",
   "execution_count": 13,
   "metadata": {},
   "outputs": [
    {
     "data": {
      "text/html": [
       "<div>\n",
       "<style scoped>\n",
       "    .dataframe tbody tr th:only-of-type {\n",
       "        vertical-align: middle;\n",
       "    }\n",
       "\n",
       "    .dataframe tbody tr th {\n",
       "        vertical-align: top;\n",
       "    }\n",
       "\n",
       "    .dataframe thead th {\n",
       "        text-align: right;\n",
       "    }\n",
       "</style>\n",
       "<table border=\"1\" class=\"dataframe\">\n",
       "  <thead>\n",
       "    <tr style=\"text-align: right;\">\n",
       "      <th></th>\n",
       "      <th>Date</th>\n",
       "      <th>Close</th>\n",
       "    </tr>\n",
       "  </thead>\n",
       "  <tbody>\n",
       "    <tr>\n",
       "      <th>0</th>\n",
       "      <td>23-Apr-19</td>\n",
       "      <td>$2933.68</td>\n",
       "    </tr>\n",
       "    <tr>\n",
       "      <th>1</th>\n",
       "      <td>22-Apr-19</td>\n",
       "      <td>$2907.97</td>\n",
       "    </tr>\n",
       "    <tr>\n",
       "      <th>2</th>\n",
       "      <td>18-Apr-19</td>\n",
       "      <td>$2905.03</td>\n",
       "    </tr>\n",
       "    <tr>\n",
       "      <th>3</th>\n",
       "      <td>17-Apr-19</td>\n",
       "      <td>$2900.45</td>\n",
       "    </tr>\n",
       "    <tr>\n",
       "      <th>4</th>\n",
       "      <td>16-Apr-19</td>\n",
       "      <td>$2907.06</td>\n",
       "    </tr>\n",
       "    <tr>\n",
       "      <th>...</th>\n",
       "      <td>...</td>\n",
       "      <td>...</td>\n",
       "    </tr>\n",
       "    <tr>\n",
       "      <th>1644</th>\n",
       "      <td>5-Oct-12</td>\n",
       "      <td>$1460.93</td>\n",
       "    </tr>\n",
       "    <tr>\n",
       "      <th>1645</th>\n",
       "      <td>4-Oct-12</td>\n",
       "      <td>$1461.40</td>\n",
       "    </tr>\n",
       "    <tr>\n",
       "      <th>1646</th>\n",
       "      <td>3-Oct-12</td>\n",
       "      <td>$1450.99</td>\n",
       "    </tr>\n",
       "    <tr>\n",
       "      <th>1647</th>\n",
       "      <td>2-Oct-12</td>\n",
       "      <td>$1445.75</td>\n",
       "    </tr>\n",
       "    <tr>\n",
       "      <th>1648</th>\n",
       "      <td>1-Oct-12</td>\n",
       "      <td>$1444.49</td>\n",
       "    </tr>\n",
       "  </tbody>\n",
       "</table>\n",
       "<p>1649 rows × 2 columns</p>\n",
       "</div>"
      ],
      "text/plain": [
       "           Date     Close\n",
       "0     23-Apr-19  $2933.68\n",
       "1     22-Apr-19  $2907.97\n",
       "2     18-Apr-19  $2905.03\n",
       "3     17-Apr-19  $2900.45\n",
       "4     16-Apr-19  $2907.06\n",
       "...         ...       ...\n",
       "1644   5-Oct-12  $1460.93\n",
       "1645   4-Oct-12  $1461.40\n",
       "1646   3-Oct-12  $1450.99\n",
       "1647   2-Oct-12  $1445.75\n",
       "1648   1-Oct-12  $1444.49\n",
       "\n",
       "[1649 rows x 2 columns]"
      ]
     },
     "execution_count": 13,
     "metadata": {},
     "output_type": "execute_result"
    }
   ],
   "source": [
    "# Reading S&P 500 Closing Prices\n",
    "csvpath = Path(\"./Resources/sp500_history.csv\")\n",
    "sp500_history = pd.read_csv(csvpath)\n",
    "\n",
    "sp500_history"
   ]
  },
  {
   "cell_type": "code",
   "execution_count": 14,
   "metadata": {},
   "outputs": [
    {
     "name": "stderr",
     "output_type": "stream",
     "text": [
      "/var/folders/jl/7bykfdr560q50k3f7sc9xpfc0000gn/T/ipykernel_3144/16109442.py:4: FutureWarning: The default value of regex will change from True to False in a future version. In addition, single character regular expressions will *not* be treated as literal strings when regex=True.\n",
      "  sp500_history['Close'] = sp500_history['Close'].str.replace('$', \"\")\n"
     ]
    },
    {
     "data": {
      "text/html": [
       "<div>\n",
       "<style scoped>\n",
       "    .dataframe tbody tr th:only-of-type {\n",
       "        vertical-align: middle;\n",
       "    }\n",
       "\n",
       "    .dataframe tbody tr th {\n",
       "        vertical-align: top;\n",
       "    }\n",
       "\n",
       "    .dataframe thead th {\n",
       "        text-align: right;\n",
       "    }\n",
       "</style>\n",
       "<table border=\"1\" class=\"dataframe\">\n",
       "  <thead>\n",
       "    <tr style=\"text-align: right;\">\n",
       "      <th></th>\n",
       "      <th>Date</th>\n",
       "      <th>Close</th>\n",
       "    </tr>\n",
       "  </thead>\n",
       "  <tbody>\n",
       "    <tr>\n",
       "      <th>0</th>\n",
       "      <td>23-Apr-19</td>\n",
       "      <td>2933.68</td>\n",
       "    </tr>\n",
       "    <tr>\n",
       "      <th>1</th>\n",
       "      <td>22-Apr-19</td>\n",
       "      <td>2907.97</td>\n",
       "    </tr>\n",
       "    <tr>\n",
       "      <th>2</th>\n",
       "      <td>18-Apr-19</td>\n",
       "      <td>2905.03</td>\n",
       "    </tr>\n",
       "    <tr>\n",
       "      <th>3</th>\n",
       "      <td>17-Apr-19</td>\n",
       "      <td>2900.45</td>\n",
       "    </tr>\n",
       "    <tr>\n",
       "      <th>4</th>\n",
       "      <td>16-Apr-19</td>\n",
       "      <td>2907.06</td>\n",
       "    </tr>\n",
       "    <tr>\n",
       "      <th>...</th>\n",
       "      <td>...</td>\n",
       "      <td>...</td>\n",
       "    </tr>\n",
       "    <tr>\n",
       "      <th>1644</th>\n",
       "      <td>5-Oct-12</td>\n",
       "      <td>1460.93</td>\n",
       "    </tr>\n",
       "    <tr>\n",
       "      <th>1645</th>\n",
       "      <td>4-Oct-12</td>\n",
       "      <td>1461.40</td>\n",
       "    </tr>\n",
       "    <tr>\n",
       "      <th>1646</th>\n",
       "      <td>3-Oct-12</td>\n",
       "      <td>1450.99</td>\n",
       "    </tr>\n",
       "    <tr>\n",
       "      <th>1647</th>\n",
       "      <td>2-Oct-12</td>\n",
       "      <td>1445.75</td>\n",
       "    </tr>\n",
       "    <tr>\n",
       "      <th>1648</th>\n",
       "      <td>1-Oct-12</td>\n",
       "      <td>1444.49</td>\n",
       "    </tr>\n",
       "  </tbody>\n",
       "</table>\n",
       "<p>1649 rows × 2 columns</p>\n",
       "</div>"
      ],
      "text/plain": [
       "           Date    Close\n",
       "0     23-Apr-19  2933.68\n",
       "1     22-Apr-19  2907.97\n",
       "2     18-Apr-19  2905.03\n",
       "3     17-Apr-19  2900.45\n",
       "4     16-Apr-19  2907.06\n",
       "...         ...      ...\n",
       "1644   5-Oct-12  1460.93\n",
       "1645   4-Oct-12  1461.40\n",
       "1646   3-Oct-12  1450.99\n",
       "1647   2-Oct-12  1445.75\n",
       "1648   1-Oct-12  1444.49\n",
       "\n",
       "[1649 rows x 2 columns]"
      ]
     },
     "execution_count": 14,
     "metadata": {},
     "output_type": "execute_result"
    }
   ],
   "source": [
    "# Check Data Types\n",
    "\n",
    "\n",
    "sp500_history['Close'] = sp500_history['Close'].str.replace('$', \"\")\n",
    "\n",
    "sp500_history"
   ]
  },
  {
   "cell_type": "code",
   "execution_count": 15,
   "metadata": {},
   "outputs": [
    {
     "data": {
      "text/html": [
       "<div>\n",
       "<style scoped>\n",
       "    .dataframe tbody tr th:only-of-type {\n",
       "        vertical-align: middle;\n",
       "    }\n",
       "\n",
       "    .dataframe tbody tr th {\n",
       "        vertical-align: top;\n",
       "    }\n",
       "\n",
       "    .dataframe thead th {\n",
       "        text-align: right;\n",
       "    }\n",
       "</style>\n",
       "<table border=\"1\" class=\"dataframe\">\n",
       "  <thead>\n",
       "    <tr style=\"text-align: right;\">\n",
       "      <th></th>\n",
       "      <th>Date</th>\n",
       "      <th>Close</th>\n",
       "    </tr>\n",
       "  </thead>\n",
       "  <tbody>\n",
       "    <tr>\n",
       "      <th>0</th>\n",
       "      <td>23-Apr-19</td>\n",
       "      <td>2933.68</td>\n",
       "    </tr>\n",
       "    <tr>\n",
       "      <th>1</th>\n",
       "      <td>22-Apr-19</td>\n",
       "      <td>2907.97</td>\n",
       "    </tr>\n",
       "    <tr>\n",
       "      <th>2</th>\n",
       "      <td>18-Apr-19</td>\n",
       "      <td>2905.03</td>\n",
       "    </tr>\n",
       "    <tr>\n",
       "      <th>3</th>\n",
       "      <td>17-Apr-19</td>\n",
       "      <td>2900.45</td>\n",
       "    </tr>\n",
       "    <tr>\n",
       "      <th>4</th>\n",
       "      <td>16-Apr-19</td>\n",
       "      <td>2907.06</td>\n",
       "    </tr>\n",
       "    <tr>\n",
       "      <th>...</th>\n",
       "      <td>...</td>\n",
       "      <td>...</td>\n",
       "    </tr>\n",
       "    <tr>\n",
       "      <th>1644</th>\n",
       "      <td>5-Oct-12</td>\n",
       "      <td>1460.93</td>\n",
       "    </tr>\n",
       "    <tr>\n",
       "      <th>1645</th>\n",
       "      <td>4-Oct-12</td>\n",
       "      <td>1461.40</td>\n",
       "    </tr>\n",
       "    <tr>\n",
       "      <th>1646</th>\n",
       "      <td>3-Oct-12</td>\n",
       "      <td>1450.99</td>\n",
       "    </tr>\n",
       "    <tr>\n",
       "      <th>1647</th>\n",
       "      <td>2-Oct-12</td>\n",
       "      <td>1445.75</td>\n",
       "    </tr>\n",
       "    <tr>\n",
       "      <th>1648</th>\n",
       "      <td>1-Oct-12</td>\n",
       "      <td>1444.49</td>\n",
       "    </tr>\n",
       "  </tbody>\n",
       "</table>\n",
       "<p>1649 rows × 2 columns</p>\n",
       "</div>"
      ],
      "text/plain": [
       "           Date    Close\n",
       "0     23-Apr-19  2933.68\n",
       "1     22-Apr-19  2907.97\n",
       "2     18-Apr-19  2905.03\n",
       "3     17-Apr-19  2900.45\n",
       "4     16-Apr-19  2907.06\n",
       "...         ...      ...\n",
       "1644   5-Oct-12  1460.93\n",
       "1645   4-Oct-12  1461.40\n",
       "1646   3-Oct-12  1450.99\n",
       "1647   2-Oct-12  1445.75\n",
       "1648   1-Oct-12  1444.49\n",
       "\n",
       "[1649 rows x 2 columns]"
      ]
     },
     "execution_count": 15,
     "metadata": {},
     "output_type": "execute_result"
    }
   ],
   "source": [
    "# Fix Data Types\n",
    "\n",
    "sp500_history['Close'] = sp500_history['Close'].astype('float')\n",
    "\n",
    "sp500_history\n"
   ]
  },
  {
   "cell_type": "code",
   "execution_count": 16,
   "metadata": {},
   "outputs": [
    {
     "data": {
      "text/html": [
       "<div>\n",
       "<style scoped>\n",
       "    .dataframe tbody tr th:only-of-type {\n",
       "        vertical-align: middle;\n",
       "    }\n",
       "\n",
       "    .dataframe tbody tr th {\n",
       "        vertical-align: top;\n",
       "    }\n",
       "\n",
       "    .dataframe thead th {\n",
       "        text-align: right;\n",
       "    }\n",
       "</style>\n",
       "<table border=\"1\" class=\"dataframe\">\n",
       "  <thead>\n",
       "    <tr style=\"text-align: right;\">\n",
       "      <th></th>\n",
       "      <th>Date</th>\n",
       "      <th>Close</th>\n",
       "    </tr>\n",
       "  </thead>\n",
       "  <tbody>\n",
       "    <tr>\n",
       "      <th>0</th>\n",
       "      <td>23-Apr-19</td>\n",
       "      <td>NaN</td>\n",
       "    </tr>\n",
       "    <tr>\n",
       "      <th>1</th>\n",
       "      <td>22-Apr-19</td>\n",
       "      <td>-0.008764</td>\n",
       "    </tr>\n",
       "    <tr>\n",
       "      <th>2</th>\n",
       "      <td>18-Apr-19</td>\n",
       "      <td>-0.001011</td>\n",
       "    </tr>\n",
       "    <tr>\n",
       "      <th>3</th>\n",
       "      <td>17-Apr-19</td>\n",
       "      <td>-0.001577</td>\n",
       "    </tr>\n",
       "    <tr>\n",
       "      <th>4</th>\n",
       "      <td>16-Apr-19</td>\n",
       "      <td>0.002279</td>\n",
       "    </tr>\n",
       "    <tr>\n",
       "      <th>...</th>\n",
       "      <td>...</td>\n",
       "      <td>...</td>\n",
       "    </tr>\n",
       "    <tr>\n",
       "      <th>1644</th>\n",
       "      <td>5-Oct-12</td>\n",
       "      <td>0.003469</td>\n",
       "    </tr>\n",
       "    <tr>\n",
       "      <th>1645</th>\n",
       "      <td>4-Oct-12</td>\n",
       "      <td>0.000322</td>\n",
       "    </tr>\n",
       "    <tr>\n",
       "      <th>1646</th>\n",
       "      <td>3-Oct-12</td>\n",
       "      <td>-0.007123</td>\n",
       "    </tr>\n",
       "    <tr>\n",
       "      <th>1647</th>\n",
       "      <td>2-Oct-12</td>\n",
       "      <td>-0.003611</td>\n",
       "    </tr>\n",
       "    <tr>\n",
       "      <th>1648</th>\n",
       "      <td>1-Oct-12</td>\n",
       "      <td>-0.000872</td>\n",
       "    </tr>\n",
       "  </tbody>\n",
       "</table>\n",
       "<p>1649 rows × 2 columns</p>\n",
       "</div>"
      ],
      "text/plain": [
       "           Date     Close\n",
       "0     23-Apr-19       NaN\n",
       "1     22-Apr-19 -0.008764\n",
       "2     18-Apr-19 -0.001011\n",
       "3     17-Apr-19 -0.001577\n",
       "4     16-Apr-19  0.002279\n",
       "...         ...       ...\n",
       "1644   5-Oct-12  0.003469\n",
       "1645   4-Oct-12  0.000322\n",
       "1646   3-Oct-12 -0.007123\n",
       "1647   2-Oct-12 -0.003611\n",
       "1648   1-Oct-12 -0.000872\n",
       "\n",
       "[1649 rows x 2 columns]"
      ]
     },
     "execution_count": 16,
     "metadata": {},
     "output_type": "execute_result"
    }
   ],
   "source": [
    "# Calculate Daily Returns\n",
    "sp500_history['Close'] = sp500_history[\"Close\"].pct_change()\n",
    "\n",
    "sp500_history"
   ]
  },
  {
   "cell_type": "code",
   "execution_count": 17,
   "metadata": {},
   "outputs": [],
   "source": [
    "# Drop nulls\n",
    "\n",
    "sp500_history = sp500_history.dropna()\n",
    "\n",
    "realsp500 = sp500_history \n"
   ]
  },
  {
   "cell_type": "code",
   "execution_count": 18,
   "metadata": {},
   "outputs": [
    {
     "name": "stderr",
     "output_type": "stream",
     "text": [
      "/var/folders/jl/7bykfdr560q50k3f7sc9xpfc0000gn/T/ipykernel_3144/1270868174.py:3: SettingWithCopyWarning: \n",
      "A value is trying to be set on a copy of a slice from a DataFrame\n",
      "\n",
      "See the caveats in the documentation: https://pandas.pydata.org/pandas-docs/stable/user_guide/indexing.html#returning-a-view-versus-a-copy\n",
      "  sp500_history.rename(columns = {'Close':'pctchange'}, inplace = True)\n"
     ]
    },
    {
     "data": {
      "text/html": [
       "<div>\n",
       "<style scoped>\n",
       "    .dataframe tbody tr th:only-of-type {\n",
       "        vertical-align: middle;\n",
       "    }\n",
       "\n",
       "    .dataframe tbody tr th {\n",
       "        vertical-align: top;\n",
       "    }\n",
       "\n",
       "    .dataframe thead th {\n",
       "        text-align: right;\n",
       "    }\n",
       "</style>\n",
       "<table border=\"1\" class=\"dataframe\">\n",
       "  <thead>\n",
       "    <tr style=\"text-align: right;\">\n",
       "      <th></th>\n",
       "      <th>Date</th>\n",
       "      <th>pctchange</th>\n",
       "    </tr>\n",
       "  </thead>\n",
       "  <tbody>\n",
       "    <tr>\n",
       "      <th>1</th>\n",
       "      <td>22-Apr-19</td>\n",
       "      <td>-0.008764</td>\n",
       "    </tr>\n",
       "    <tr>\n",
       "      <th>2</th>\n",
       "      <td>18-Apr-19</td>\n",
       "      <td>-0.001011</td>\n",
       "    </tr>\n",
       "    <tr>\n",
       "      <th>3</th>\n",
       "      <td>17-Apr-19</td>\n",
       "      <td>-0.001577</td>\n",
       "    </tr>\n",
       "    <tr>\n",
       "      <th>4</th>\n",
       "      <td>16-Apr-19</td>\n",
       "      <td>0.002279</td>\n",
       "    </tr>\n",
       "    <tr>\n",
       "      <th>5</th>\n",
       "      <td>15-Apr-19</td>\n",
       "      <td>-0.000509</td>\n",
       "    </tr>\n",
       "    <tr>\n",
       "      <th>...</th>\n",
       "      <td>...</td>\n",
       "      <td>...</td>\n",
       "    </tr>\n",
       "    <tr>\n",
       "      <th>1644</th>\n",
       "      <td>5-Oct-12</td>\n",
       "      <td>0.003469</td>\n",
       "    </tr>\n",
       "    <tr>\n",
       "      <th>1645</th>\n",
       "      <td>4-Oct-12</td>\n",
       "      <td>0.000322</td>\n",
       "    </tr>\n",
       "    <tr>\n",
       "      <th>1646</th>\n",
       "      <td>3-Oct-12</td>\n",
       "      <td>-0.007123</td>\n",
       "    </tr>\n",
       "    <tr>\n",
       "      <th>1647</th>\n",
       "      <td>2-Oct-12</td>\n",
       "      <td>-0.003611</td>\n",
       "    </tr>\n",
       "    <tr>\n",
       "      <th>1648</th>\n",
       "      <td>1-Oct-12</td>\n",
       "      <td>-0.000872</td>\n",
       "    </tr>\n",
       "  </tbody>\n",
       "</table>\n",
       "<p>1648 rows × 2 columns</p>\n",
       "</div>"
      ],
      "text/plain": [
       "           Date  pctchange\n",
       "1     22-Apr-19  -0.008764\n",
       "2     18-Apr-19  -0.001011\n",
       "3     17-Apr-19  -0.001577\n",
       "4     16-Apr-19   0.002279\n",
       "5     15-Apr-19  -0.000509\n",
       "...         ...        ...\n",
       "1644   5-Oct-12   0.003469\n",
       "1645   4-Oct-12   0.000322\n",
       "1646   3-Oct-12  -0.007123\n",
       "1647   2-Oct-12  -0.003611\n",
       "1648   1-Oct-12  -0.000872\n",
       "\n",
       "[1648 rows x 2 columns]"
      ]
     },
     "execution_count": 18,
     "metadata": {},
     "output_type": "execute_result"
    }
   ],
   "source": [
    "# Rename `Close` Column to be specific to this portfolio.\n",
    "\n",
    "sp500_history.rename(columns = {'Close':'pctchange'}, inplace = True)\n",
    "\n",
    "sp500_history"
   ]
  },
  {
   "cell_type": "markdown",
   "metadata": {},
   "source": [
    "## Combine Whale, Algorithmic, and S&P 500 Returns"
   ]
  },
  {
   "cell_type": "code",
   "execution_count": 19,
   "metadata": {},
   "outputs": [
    {
     "data": {
      "text/html": [
       "<div>\n",
       "<style scoped>\n",
       "    .dataframe tbody tr th:only-of-type {\n",
       "        vertical-align: middle;\n",
       "    }\n",
       "\n",
       "    .dataframe tbody tr th {\n",
       "        vertical-align: top;\n",
       "    }\n",
       "\n",
       "    .dataframe thead th {\n",
       "        text-align: right;\n",
       "    }\n",
       "</style>\n",
       "<table border=\"1\" class=\"dataframe\">\n",
       "  <thead>\n",
       "    <tr style=\"text-align: right;\">\n",
       "      <th></th>\n",
       "      <th>SOROS FUND MANAGEMENT LLC</th>\n",
       "      <th>PAULSON &amp; CO.INC.</th>\n",
       "      <th>TIGER GLOBAL MANAGEMENT LLC</th>\n",
       "      <th>BERKSHIRE HATHAWAY INC</th>\n",
       "      <th>pctchange</th>\n",
       "      <th>Algo 1</th>\n",
       "      <th>Algo 2</th>\n",
       "    </tr>\n",
       "  </thead>\n",
       "  <tbody>\n",
       "    <tr>\n",
       "      <th>6</th>\n",
       "      <td>-0.010263</td>\n",
       "      <td>-0.005341</td>\n",
       "      <td>-0.012079</td>\n",
       "      <td>-0.009739</td>\n",
       "      <td>0.000630</td>\n",
       "      <td>0.004062</td>\n",
       "      <td>0.013285</td>\n",
       "    </tr>\n",
       "    <tr>\n",
       "      <th>7</th>\n",
       "      <td>0.004012</td>\n",
       "      <td>0.005163</td>\n",
       "      <td>0.003312</td>\n",
       "      <td>-0.001147</td>\n",
       "      <td>-0.006566</td>\n",
       "      <td>0.001857</td>\n",
       "      <td>0.008284</td>\n",
       "    </tr>\n",
       "    <tr>\n",
       "      <th>8</th>\n",
       "      <td>0.008265</td>\n",
       "      <td>0.010272</td>\n",
       "      <td>0.013117</td>\n",
       "      <td>0.010801</td>\n",
       "      <td>-0.000038</td>\n",
       "      <td>-0.005012</td>\n",
       "      <td>0.005668</td>\n",
       "    </tr>\n",
       "    <tr>\n",
       "      <th>9</th>\n",
       "      <td>-0.002497</td>\n",
       "      <td>-0.001428</td>\n",
       "      <td>-0.003697</td>\n",
       "      <td>-0.008142</td>\n",
       "      <td>-0.003466</td>\n",
       "      <td>0.004406</td>\n",
       "      <td>-0.000735</td>\n",
       "    </tr>\n",
       "    <tr>\n",
       "      <th>10</th>\n",
       "      <td>0.007901</td>\n",
       "      <td>0.003583</td>\n",
       "      <td>0.007953</td>\n",
       "      <td>0.008055</td>\n",
       "      <td>0.006105</td>\n",
       "      <td>0.004760</td>\n",
       "      <td>-0.003761</td>\n",
       "    </tr>\n",
       "    <tr>\n",
       "      <th>...</th>\n",
       "      <td>...</td>\n",
       "      <td>...</td>\n",
       "      <td>...</td>\n",
       "      <td>...</td>\n",
       "      <td>...</td>\n",
       "      <td>...</td>\n",
       "      <td>...</td>\n",
       "    </tr>\n",
       "    <tr>\n",
       "      <th>1055</th>\n",
       "      <td>-0.000285</td>\n",
       "      <td>-0.001291</td>\n",
       "      <td>-0.005153</td>\n",
       "      <td>0.004848</td>\n",
       "      <td>-0.009552</td>\n",
       "      <td>-0.003656</td>\n",
       "      <td>0.002817</td>\n",
       "    </tr>\n",
       "    <tr>\n",
       "      <th>1056</th>\n",
       "      <td>0.008149</td>\n",
       "      <td>0.009162</td>\n",
       "      <td>0.012355</td>\n",
       "      <td>0.010434</td>\n",
       "      <td>0.000029</td>\n",
       "      <td>0.000529</td>\n",
       "      <td>0.000285</td>\n",
       "    </tr>\n",
       "    <tr>\n",
       "      <th>1057</th>\n",
       "      <td>0.001254</td>\n",
       "      <td>0.002719</td>\n",
       "      <td>0.006251</td>\n",
       "      <td>0.005223</td>\n",
       "      <td>-0.010563</td>\n",
       "      <td>0.000207</td>\n",
       "      <td>-0.001330</td>\n",
       "    </tr>\n",
       "    <tr>\n",
       "      <th>1058</th>\n",
       "      <td>-0.001295</td>\n",
       "      <td>-0.002211</td>\n",
       "      <td>-0.000259</td>\n",
       "      <td>-0.003702</td>\n",
       "      <td>0.004265</td>\n",
       "      <td>0.008429</td>\n",
       "      <td>-0.001812</td>\n",
       "    </tr>\n",
       "    <tr>\n",
       "      <th>1059</th>\n",
       "      <td>-0.005847</td>\n",
       "      <td>-0.001341</td>\n",
       "      <td>-0.007936</td>\n",
       "      <td>-0.007833</td>\n",
       "      <td>0.003430</td>\n",
       "      <td>0.003474</td>\n",
       "      <td>0.000550</td>\n",
       "    </tr>\n",
       "  </tbody>\n",
       "</table>\n",
       "<p>1054 rows × 7 columns</p>\n",
       "</div>"
      ],
      "text/plain": [
       "      SOROS FUND MANAGEMENT LLC  PAULSON & CO.INC.   \\\n",
       "6                     -0.010263           -0.005341   \n",
       "7                      0.004012            0.005163   \n",
       "8                      0.008265            0.010272   \n",
       "9                     -0.002497           -0.001428   \n",
       "10                     0.007901            0.003583   \n",
       "...                         ...                 ...   \n",
       "1055                  -0.000285           -0.001291   \n",
       "1056                   0.008149            0.009162   \n",
       "1057                   0.001254            0.002719   \n",
       "1058                  -0.001295           -0.002211   \n",
       "1059                  -0.005847           -0.001341   \n",
       "\n",
       "      TIGER GLOBAL MANAGEMENT LLC  BERKSHIRE HATHAWAY INC  pctchange  \\\n",
       "6                       -0.012079               -0.009739   0.000630   \n",
       "7                        0.003312               -0.001147  -0.006566   \n",
       "8                        0.013117                0.010801  -0.000038   \n",
       "9                       -0.003697               -0.008142  -0.003466   \n",
       "10                       0.007953                0.008055   0.006105   \n",
       "...                           ...                     ...        ...   \n",
       "1055                    -0.005153                0.004848  -0.009552   \n",
       "1056                     0.012355                0.010434   0.000029   \n",
       "1057                     0.006251                0.005223  -0.010563   \n",
       "1058                    -0.000259               -0.003702   0.004265   \n",
       "1059                    -0.007936               -0.007833   0.003430   \n",
       "\n",
       "        Algo 1    Algo 2  \n",
       "6     0.004062  0.013285  \n",
       "7     0.001857  0.008284  \n",
       "8    -0.005012  0.005668  \n",
       "9     0.004406 -0.000735  \n",
       "10    0.004760 -0.003761  \n",
       "...        ...       ...  \n",
       "1055 -0.003656  0.002817  \n",
       "1056  0.000529  0.000285  \n",
       "1057  0.000207 -0.001330  \n",
       "1058  0.008429 -0.001812  \n",
       "1059  0.003474  0.000550  \n",
       "\n",
       "[1054 rows x 7 columns]"
      ]
     },
     "execution_count": 19,
     "metadata": {},
     "output_type": "execute_result"
    }
   ],
   "source": [
    "# Join Whale Returns, Algorithmic Returns, and the S&P 500 Returns into a single DataFrame with columns for each portfolio's returns.\n",
    "returns_df = pd.concat([whale_data, sp500_history, algo_returns], axis='columns', join= 'inner')\n",
    "returns_df.drop(columns=['Date'], inplace=True)\n",
    "\n",
    "returns_df"
   ]
  },
  {
   "cell_type": "markdown",
   "metadata": {},
   "source": [
    "---"
   ]
  },
  {
   "cell_type": "markdown",
   "metadata": {},
   "source": [
    "# Conduct Quantitative Analysis\n",
    "\n",
    "In this section, you will calculate and visualize performance and risk metrics for the portfolios."
   ]
  },
  {
   "cell_type": "markdown",
   "metadata": {},
   "source": [
    "## Performance Anlysis\n",
    "\n",
    "#### Calculate and Plot the daily returns."
   ]
  },
  {
   "cell_type": "code",
   "execution_count": 20,
   "metadata": {},
   "outputs": [
    {
     "data": {
      "text/plain": [
       "<AxesSubplot:>"
      ]
     },
     "execution_count": 20,
     "metadata": {},
     "output_type": "execute_result"
    },
    {
     "data": {
      "image/png": "[encoded data removed]",
      "text/plain": [
       "<Figure size 432x288 with 1 Axes>"
      ]
     },
     "metadata": {
      "needs_background": "light"
     },
     "output_type": "display_data"
    }
   ],
   "source": [
    "# Plot daily returns of all portfolios\n",
    "returns_df.plot()"
   ]
  },
  {
   "cell_type": "markdown",
   "metadata": {},
   "source": [
    "#### Calculate and Plot cumulative returns."
   ]
  },
  {
   "cell_type": "code",
   "execution_count": 21,
   "metadata": {},
   "outputs": [
    {
     "data": {
      "text/plain": [
       "<AxesSubplot:>"
      ]
     },
     "execution_count": 21,
     "metadata": {},
     "output_type": "execute_result"
    },
    {
     "data": {
      "image/png": "[encoded data removed]",
      "text/plain": [
       "<Figure size 432x288 with 1 Axes>"
      ]
     },
     "metadata": {
      "needs_background": "light"
     },
     "output_type": "display_data"
    }
   ],
   "source": [
    "# Calculate cumulative returns of all portfolios\n",
    "\n",
    "cumulative_returns = (1 + returns_df).cumprod()\n",
    "\n",
    "cumulative_returns\n",
    "\n",
    "# Plot cumulative returns\n",
    "cumulative_returns.plot()"
   ]
  },
  {
   "cell_type": "markdown",
   "metadata": {},
   "source": [
    "---"
   ]
  },
  {
   "cell_type": "markdown",
   "metadata": {},
   "source": [
    "## Risk Analysis\n",
    "\n",
    "Determine the _risk_ of each portfolio:\n",
    "\n",
    "1. Create a box plot for each portfolio. \n",
    "2. Calculate the standard deviation for all portfolios\n",
    "4. Determine which portfolios are riskier than the S&P 500\n",
    "5. Calculate the Annualized Standard Deviation"
   ]
  },
  {
   "cell_type": "markdown",
   "metadata": {},
   "source": [
    "### Create a box plot for each portfolio\n"
   ]
  },
  {
   "cell_type": "code",
   "execution_count": 22,
   "metadata": {},
   "outputs": [
    {
     "data": {
      "text/plain": [
       "<AxesSubplot:>"
      ]
     },
     "execution_count": 22,
     "metadata": {},
     "output_type": "execute_result"
    },
    {
     "data": {
      "image/png": "[encoded data removed]",
      "text/plain": [
       "<Figure size 432x288 with 1 Axes>"
      ]
     },
     "metadata": {
      "needs_background": "light"
     },
     "output_type": "display_data"
    }
   ],
   "source": [
    "# Box plot to visually show risk\n",
    "\n",
    "cumulative_returns.plot()"
   ]
  },
  {
   "cell_type": "markdown",
   "metadata": {},
   "source": [
    "### Calculate Standard Deviations"
   ]
  },
  {
   "cell_type": "code",
   "execution_count": 23,
   "metadata": {},
   "outputs": [
    {
     "data": {
      "text/plain": [
       "SOROS FUND MANAGEMENT LLC      0.007855\n",
       "PAULSON & CO.INC.              0.006988\n",
       "TIGER GLOBAL MANAGEMENT LLC    0.010845\n",
       "BERKSHIRE HATHAWAY INC         0.012850\n",
       "pctchange                      0.008553\n",
       "Algo 1                         0.007745\n",
       "Algo 2                         0.008265\n",
       "dtype: float64"
      ]
     },
     "execution_count": 23,
     "metadata": {},
     "output_type": "execute_result"
    }
   ],
   "source": [
    "# Calculate the daily standard deviations of all portfolios\n",
    "returns_df.std()"
   ]
  },
  {
   "cell_type": "markdown",
   "metadata": {},
   "source": [
    "### Determine which portfolios are riskier than the S&P 500"
   ]
  },
  {
   "cell_type": "code",
   "execution_count": 24,
   "metadata": {},
   "outputs": [
    {
     "name": "stdout",
     "output_type": "stream",
     "text": [
      "pctchange    0.008135\n",
      "dtype: float64\n",
      "Algo 1    0.007988\n",
      "Algo 2    0.008466\n",
      "dtype: float64\n",
      "SOROS FUND MANAGEMENT LLC      0.007842\n",
      "PAULSON & CO.INC.              0.006977\n",
      "TIGER GLOBAL MANAGEMENT LLC    0.010824\n",
      "BERKSHIRE HATHAWAY INC         0.012831\n",
      "dtype: float64\n"
     ]
    },
    {
     "name": "stderr",
     "output_type": "stream",
     "text": [
      "/var/folders/jl/7bykfdr560q50k3f7sc9xpfc0000gn/T/ipykernel_3144/3690898894.py:3: FutureWarning: Dropping of nuisance columns in DataFrame reductions (with 'numeric_only=None') is deprecated; in a future version this will raise TypeError.  Select only valid columns before calling the reduction.\n",
      "  sp500_history.std()\n",
      "/var/folders/jl/7bykfdr560q50k3f7sc9xpfc0000gn/T/ipykernel_3144/3690898894.py:7: FutureWarning: Dropping of nuisance columns in DataFrame reductions (with 'numeric_only=None') is deprecated; in a future version this will raise TypeError.  Select only valid columns before calling the reduction.\n",
      "  print(sp500_history.std())\n",
      "/var/folders/jl/7bykfdr560q50k3f7sc9xpfc0000gn/T/ipykernel_3144/3690898894.py:8: FutureWarning: Dropping of nuisance columns in DataFrame reductions (with 'numeric_only=None') is deprecated; in a future version this will raise TypeError.  Select only valid columns before calling the reduction.\n",
      "  print(algo_returns.std())\n",
      "/var/folders/jl/7bykfdr560q50k3f7sc9xpfc0000gn/T/ipykernel_3144/3690898894.py:9: FutureWarning: Dropping of nuisance columns in DataFrame reductions (with 'numeric_only=None') is deprecated; in a future version this will raise TypeError.  Select only valid columns before calling the reduction.\n",
      "  print(whale_data.std())\n"
     ]
    }
   ],
   "source": [
    "# Calculate the daily standard deviation of S&P 500\n",
    "\n",
    "sp500_history.std()\n",
    "\n",
    "\n",
    "# Determine which portfolios are riskier than the S&P 500\n",
    "print(sp500_history.std())\n",
    "print(algo_returns.std())\n",
    "print(whale_data.std())"
   ]
  },
  {
   "cell_type": "markdown",
   "metadata": {},
   "source": [
    "### Calculate the Annualized Standard Deviation"
   ]
  },
  {
   "cell_type": "code",
   "execution_count": 25,
   "metadata": {},
   "outputs": [
    {
     "data": {
      "text/plain": [
       "SOROS FUND MANAGEMENT LLC      1.979543\n",
       "PAULSON & CO.INC.              1.760903\n",
       "TIGER GLOBAL MANAGEMENT LLC    2.732889\n",
       "BERKSHIRE HATHAWAY INC         3.238301\n",
       "pctchange                      2.155390\n",
       "Algo 1                         1.951705\n",
       "Algo 2                         2.082832\n",
       "dtype: float64"
      ]
     },
     "execution_count": 25,
     "metadata": {},
     "output_type": "execute_result"
    }
   ],
   "source": [
    "# Calculate the annualized standard deviation (252 trading days)\n",
    "\n",
    "returns_df.std()*252"
   ]
  },
  {
   "cell_type": "markdown",
   "metadata": {},
   "source": [
    "---"
   ]
  },
  {
   "cell_type": "markdown",
   "metadata": {},
   "source": [
    "## Rolling Statistics\n",
    "\n",
    "Risk changes over time. Analyze the rolling statistics for Risk and Beta. \n",
    "\n",
    "1. Calculate and plot the rolling standard deviation for all portfolios using a 21-day window\n",
    "2. Calculate the correlation between each stock to determine which portfolios may mimick the S&P 500\n",
    "3. Choose one portfolio, then calculate and plot the 60-day rolling beta between it and the S&P 500"
   ]
  },
  {
   "cell_type": "markdown",
   "metadata": {},
   "source": [
    "### Calculate and plot rolling `std` for all portfolios with 21-day window"
   ]
  },
  {
   "cell_type": "code",
   "execution_count": 54,
   "metadata": {},
   "outputs": [
    {
     "data": {
      "text/plain": [
       "<AxesSubplot:>"
      ]
     },
     "execution_count": 54,
     "metadata": {},
     "output_type": "execute_result"
    },
    {
     "data": {
      "image/png": "[encoded data removed]",
      "text/plain": [
       "<Figure size 432x288 with 1 Axes>"
      ]
     },
     "metadata": {
      "needs_background": "light"
     },
     "output_type": "display_data"
    }
   ],
   "source": [
    "# Calculate the rolling standard deviation for all portfolios using a 21-day window\n",
    "\n",
    "rolling_returns = returns_df.rolling(21).std()*252\n",
    "\n",
    "# Plot the rolling standard deviation\n",
    "rolling_returns.plot.bar()\n"
   ]
  },
  {
   "cell_type": "markdown",
   "metadata": {},
   "source": [
    "### Calculate and plot the correlation"
   ]
  },
  {
   "cell_type": "code",
   "execution_count": 27,
   "metadata": {},
   "outputs": [
    {
     "name": "stdout",
     "output_type": "stream",
     "text": [
      "                             SOROS FUND MANAGEMENT LLC  PAULSON & CO.INC.   \\\n",
      "SOROS FUND MANAGEMENT LLC                     1.000000            0.661895   \n",
      "PAULSON & CO.INC.                             0.661895            1.000000   \n",
      "TIGER GLOBAL MANAGEMENT LLC                   0.451378            0.405457   \n",
      "BERKSHIRE HATHAWAY INC                        0.858086            0.625558   \n",
      "pctchange                                     0.202010           -0.047461   \n",
      "Algo 1                                       -0.086910            0.116802   \n",
      "Algo 2                                        0.059820            0.231186   \n",
      "\n",
      "                             TIGER GLOBAL MANAGEMENT LLC  \\\n",
      "SOROS FUND MANAGEMENT LLC                       0.451378   \n",
      "PAULSON & CO.INC.                               0.405457   \n",
      "TIGER GLOBAL MANAGEMENT LLC                     1.000000   \n",
      "BERKSHIRE HATHAWAY INC                          0.411618   \n",
      "pctchange                                       0.043664   \n",
      "Algo 1                                         -0.101172   \n",
      "Algo 2                                         -0.018589   \n",
      "\n",
      "                             BERKSHIRE HATHAWAY INC  pctchange    Algo 1  \\\n",
      "SOROS FUND MANAGEMENT LLC                  0.858086   0.202010 -0.086910   \n",
      "PAULSON & CO.INC.                          0.625558  -0.047461  0.116802   \n",
      "TIGER GLOBAL MANAGEMENT LLC                0.411618   0.043664 -0.101172   \n",
      "BERKSHIRE HATHAWAY INC                     1.000000   0.145522 -0.127393   \n",
      "pctchange                                  0.145522   1.000000 -0.086512   \n",
      "Algo 1                                    -0.127393  -0.086512  1.000000   \n",
      "Algo 2                                     0.023472   0.028347  0.805004   \n",
      "\n",
      "                               Algo 2  \n",
      "SOROS FUND MANAGEMENT LLC    0.059820  \n",
      "PAULSON & CO.INC.            0.231186  \n",
      "TIGER GLOBAL MANAGEMENT LLC -0.018589  \n",
      "BERKSHIRE HATHAWAY INC       0.023472  \n",
      "pctchange                    0.028347  \n",
      "Algo 1                       0.805004  \n",
      "Algo 2                       1.000000  \n"
     ]
    }
   ],
   "source": [
    "# Calculate the correlation\n",
    "rolling_returns.corr()\n",
    "# Display de correlation matrix\n",
    "corrMatrix = rolling_returns.corr()\n",
    "print(corrMatrix)"
   ]
  },
  {
   "cell_type": "markdown",
   "metadata": {},
   "source": [
    "### Calculate and Plot Beta for a chosen portfolio and the S&P 500"
   ]
  },
  {
   "cell_type": "code",
   "execution_count": 104,
   "metadata": {},
   "outputs": [
    {
     "name": "stderr",
     "output_type": "stream",
     "text": [
      "/var/folders/jl/7bykfdr560q50k3f7sc9xpfc0000gn/T/ipykernel_3144/2585609800.py:5: FutureWarning: Dropping of nuisance columns in DataFrame reductions (with 'numeric_only=None') is deprecated; in a future version this will raise TypeError.  Select only valid columns before calling the reduction.\n",
      "  realsp500.var()\n",
      "/var/folders/jl/7bykfdr560q50k3f7sc9xpfc0000gn/T/ipykernel_3144/2585609800.py:8: FutureWarning: Dropping of nuisance columns in DataFrame reductions (with 'numeric_only=None') is deprecated; in a future version this will raise TypeError.  Select only valid columns before calling the reduction.\n",
      "  beta = realsp500.var() / returns_df.cov()\n"
     ]
    },
    {
     "data": {
      "text/plain": [
       "<AxesSubplot:>"
      ]
     },
     "execution_count": 104,
     "metadata": {},
     "output_type": "execute_result"
    },
    {
     "data": {
      "image/png": "[encoded data removed]",
      "text/plain": [
       "<Figure size 432x288 with 1 Axes>"
      ]
     },
     "metadata": {
      "needs_background": "light"
     },
     "output_type": "display_data"
    }
   ],
   "source": [
    "# Calculate convariance of a single portfolio\n",
    "returns_df.cov()\n",
    "\n",
    "# Calculate variance of S&P 500\n",
    "realsp500.var()\n",
    "\n",
    "# Computing beta\n",
    "beta = realsp500.var() / returns_df.cov()\n",
    "beta\n",
    "\n",
    "# Plot beta trend\n",
    "beta.plot()"
   ]
  },
  {
   "cell_type": "markdown",
   "metadata": {},
   "source": [
    "## Rolling Statistics Challenge: Exponentially Weighted Average \n",
    "\n",
    "An alternative way to calculate a rolling window is to take the exponentially weighted moving average. This is like a moving window average, but it assigns greater importance to more recent observations. Try calculating the [`ewm`](https://pandas.pydata.org/pandas-docs/stable/reference/api/pandas.DataFrame.ewm.html) with a 21-day half life for each portfolio, using standard deviation (`std`) as the metric of interest."
   ]
  },
  {
   "cell_type": "code",
   "execution_count": 32,
   "metadata": {},
   "outputs": [
    {
     "ename": "ValueError",
     "evalue": "times must be datetime64[ns] dtype.",
     "output_type": "error",
     "traceback": [
      "\u001b[0;31m---------------------------------------------------------------------------\u001b[0m",
      "\u001b[0;31mValueError\u001b[0m                                Traceback (most recent call last)",
      "Input \u001b[0;32mIn [32]\u001b[0m, in \u001b[0;36m<cell line: 4>\u001b[0;34m()\u001b[0m\n\u001b[1;32m      1\u001b[0m \u001b[38;5;66;03m# Use `ewm` to calculate the rolling window\u001b[39;00m\n\u001b[1;32m      3\u001b[0m datetimesindex \u001b[38;5;241m=\u001b[39m sp500_history[\u001b[38;5;124m'\u001b[39m\u001b[38;5;124mDate\u001b[39m\u001b[38;5;124m'\u001b[39m]\n\u001b[0;32m----> 4\u001b[0m returns_df \u001b[38;5;241m=\u001b[39m \u001b[43mreturns_df\u001b[49m\u001b[38;5;241;43m.\u001b[39;49m\u001b[43mewm\u001b[49m\u001b[43m(\u001b[49m\u001b[43mhalflife\u001b[49m\u001b[38;5;241;43m=\u001b[39;49m\u001b[38;5;124;43m'\u001b[39;49m\u001b[38;5;124;43m21 days\u001b[39;49m\u001b[38;5;124;43m'\u001b[39;49m\u001b[43m,\u001b[49m\u001b[43mtimes\u001b[49m\u001b[38;5;241;43m=\u001b[39;49m\u001b[43mdatetimesindex\u001b[49m\u001b[43m)\u001b[49m\u001b[38;5;241m.\u001b[39mstd()\n",
      "File \u001b[0;32m~/opt/anaconda3/lib/python3.9/site-packages/pandas/core/generic.py:11330\u001b[0m, in \u001b[0;36mNDFrame.ewm\u001b[0;34m(self, com, span, halflife, alpha, min_periods, adjust, ignore_na, axis, times, method)\u001b[0m\n\u001b[1;32m  11314\u001b[0m \u001b[38;5;129m@final\u001b[39m\n\u001b[1;32m  11315\u001b[0m \u001b[38;5;129m@doc\u001b[39m(ExponentialMovingWindow)\n\u001b[1;32m  11316\u001b[0m \u001b[38;5;28;01mdef\u001b[39;00m \u001b[38;5;21mewm\u001b[39m(\n\u001b[0;32m   (...)\u001b[0m\n\u001b[1;32m  11327\u001b[0m     method: \u001b[38;5;28mstr\u001b[39m \u001b[38;5;241m=\u001b[39m \u001b[38;5;124m\"\u001b[39m\u001b[38;5;124msingle\u001b[39m\u001b[38;5;124m\"\u001b[39m,\n\u001b[1;32m  11328\u001b[0m ) \u001b[38;5;241m-\u001b[39m\u001b[38;5;241m>\u001b[39m ExponentialMovingWindow:\n\u001b[1;32m  11329\u001b[0m     axis \u001b[38;5;241m=\u001b[39m \u001b[38;5;28mself\u001b[39m\u001b[38;5;241m.\u001b[39m_get_axis_number(axis)\n\u001b[0;32m> 11330\u001b[0m     \u001b[38;5;28;01mreturn\u001b[39;00m \u001b[43mExponentialMovingWindow\u001b[49m\u001b[43m(\u001b[49m\n\u001b[1;32m  11331\u001b[0m \u001b[43m        \u001b[49m\u001b[38;5;28;43mself\u001b[39;49m\u001b[43m,\u001b[49m\n\u001b[1;32m  11332\u001b[0m \u001b[43m        \u001b[49m\u001b[43mcom\u001b[49m\u001b[38;5;241;43m=\u001b[39;49m\u001b[43mcom\u001b[49m\u001b[43m,\u001b[49m\n\u001b[1;32m  11333\u001b[0m \u001b[43m        \u001b[49m\u001b[43mspan\u001b[49m\u001b[38;5;241;43m=\u001b[39;49m\u001b[43mspan\u001b[49m\u001b[43m,\u001b[49m\n\u001b[1;32m  11334\u001b[0m \u001b[43m        \u001b[49m\u001b[43mhalflife\u001b[49m\u001b[38;5;241;43m=\u001b[39;49m\u001b[43mhalflife\u001b[49m\u001b[43m,\u001b[49m\n\u001b[1;32m  11335\u001b[0m \u001b[43m        \u001b[49m\u001b[43malpha\u001b[49m\u001b[38;5;241;43m=\u001b[39;49m\u001b[43malpha\u001b[49m\u001b[43m,\u001b[49m\n\u001b[1;32m  11336\u001b[0m \u001b[43m        \u001b[49m\u001b[43mmin_periods\u001b[49m\u001b[38;5;241;43m=\u001b[39;49m\u001b[43mmin_periods\u001b[49m\u001b[43m,\u001b[49m\n\u001b[1;32m  11337\u001b[0m \u001b[43m        \u001b[49m\u001b[43madjust\u001b[49m\u001b[38;5;241;43m=\u001b[39;49m\u001b[43madjust\u001b[49m\u001b[43m,\u001b[49m\n\u001b[1;32m  11338\u001b[0m \u001b[43m        \u001b[49m\u001b[43mignore_na\u001b[49m\u001b[38;5;241;43m=\u001b[39;49m\u001b[43mignore_na\u001b[49m\u001b[43m,\u001b[49m\n\u001b[1;32m  11339\u001b[0m \u001b[43m        \u001b[49m\u001b[43maxis\u001b[49m\u001b[38;5;241;43m=\u001b[39;49m\u001b[43maxis\u001b[49m\u001b[43m,\u001b[49m\n\u001b[1;32m  11340\u001b[0m \u001b[43m        \u001b[49m\u001b[43mtimes\u001b[49m\u001b[38;5;241;43m=\u001b[39;49m\u001b[43mtimes\u001b[49m\u001b[43m,\u001b[49m\n\u001b[1;32m  11341\u001b[0m \u001b[43m        \u001b[49m\u001b[43mmethod\u001b[49m\u001b[38;5;241;43m=\u001b[39;49m\u001b[43mmethod\u001b[49m\u001b[43m,\u001b[49m\n\u001b[1;32m  11342\u001b[0m \u001b[43m    \u001b[49m\u001b[43m)\u001b[49m\n",
      "File \u001b[0;32m~/opt/anaconda3/lib/python3.9/site-packages/pandas/core/window/ewm.py:382\u001b[0m, in \u001b[0;36mExponentialMovingWindow.__init__\u001b[0;34m(self, obj, com, span, halflife, alpha, min_periods, adjust, ignore_na, axis, times, method, selection)\u001b[0m\n\u001b[1;32m    380\u001b[0m     \u001b[38;5;28mself\u001b[39m\u001b[38;5;241m.\u001b[39mtimes \u001b[38;5;241m=\u001b[39m \u001b[38;5;28mself\u001b[39m\u001b[38;5;241m.\u001b[39m_selected_obj[\u001b[38;5;28mself\u001b[39m\u001b[38;5;241m.\u001b[39mtimes]\n\u001b[1;32m    381\u001b[0m \u001b[38;5;28;01mif\u001b[39;00m \u001b[38;5;129;01mnot\u001b[39;00m is_datetime64_ns_dtype(\u001b[38;5;28mself\u001b[39m\u001b[38;5;241m.\u001b[39mtimes):\n\u001b[0;32m--> 382\u001b[0m     \u001b[38;5;28;01mraise\u001b[39;00m \u001b[38;5;167;01mValueError\u001b[39;00m(\u001b[38;5;124m\"\u001b[39m\u001b[38;5;124mtimes must be datetime64[ns] dtype.\u001b[39m\u001b[38;5;124m\"\u001b[39m)\n\u001b[1;32m    383\u001b[0m \u001b[38;5;66;03m# error: Argument 1 to \"len\" has incompatible type \"Union[str, ndarray,\u001b[39;00m\n\u001b[1;32m    384\u001b[0m \u001b[38;5;66;03m# NDFrameT, None]\"; expected \"Sized\"\u001b[39;00m\n\u001b[1;32m    385\u001b[0m \u001b[38;5;28;01mif\u001b[39;00m \u001b[38;5;28mlen\u001b[39m(\u001b[38;5;28mself\u001b[39m\u001b[38;5;241m.\u001b[39mtimes) \u001b[38;5;241m!=\u001b[39m \u001b[38;5;28mlen\u001b[39m(obj):  \u001b[38;5;66;03m# type: ignore[arg-type]\u001b[39;00m\n",
      "\u001b[0;31mValueError\u001b[0m: times must be datetime64[ns] dtype."
     ]
    }
   ],
   "source": [
    "# Use `ewm` to calculate the rolling window\n",
    "\n",
    "datetimesindex = sp500_history['Date']\n",
    "returns_df = returns_df.ewm(halflife='21 days',times=datetimesindex).std()"
   ]
  },
  {
   "cell_type": "markdown",
   "metadata": {},
   "source": [
    "---"
   ]
  },
  {
   "cell_type": "markdown",
   "metadata": {},
   "source": [
    "# Sharpe Ratios\n",
    "In reality, investment managers and thier institutional investors look at the ratio of return-to-risk, and not just returns alone. After all, if you could invest in one of two portfolios, and each offered the same 10% return, yet one offered lower risk, you'd take that one, right?\n",
    "\n",
    "### Using the daily returns, calculate and visualize the Sharpe ratios using a bar plot"
   ]
  },
  {
   "cell_type": "code",
   "execution_count": 34,
   "metadata": {},
   "outputs": [],
   "source": [
    "# Annualized Sharpe Ratios\n",
    "sharp_ratio = returns_df.mean() / returns_df.std()"
   ]
  },
  {
   "cell_type": "code",
   "execution_count": 35,
   "metadata": {},
   "outputs": [
    {
     "data": {
      "text/plain": [
       "<AxesSubplot:>"
      ]
     },
     "execution_count": 35,
     "metadata": {},
     "output_type": "execute_result"
    },
    {
     "data": {
      "image/png": "[encoded data removed]",
      "text/plain": [
       "<Figure size 432x288 with 1 Axes>"
      ]
     },
     "metadata": {
      "needs_background": "light"
     },
     "output_type": "display_data"
    }
   ],
   "source": [
    "# Visualize the sharpe ratios as a bar plot\n",
    "sharp_ratio.plot.bar()"
   ]
  },
  {
   "cell_type": "markdown",
   "metadata": {},
   "source": [
    "### Determine whether the algorithmic strategies outperform both the market (S&P 500) and the whales portfolios.\n",
    "\n",
    "Write your answer here!"
   ]
  },
  {
   "cell_type": "markdown",
   "metadata": {},
   "source": [
    "Both Algo Strategies outperform the S&P 500."
   ]
  },
  {
   "cell_type": "markdown",
   "metadata": {},
   "source": [
    "---"
   ]
  },
  {
   "cell_type": "markdown",
   "metadata": {},
   "source": [
    "# Create Custom Portfolio\n",
    "\n",
    "In this section, you will build your own portfolio of stocks, calculate the returns, and compare the results to the Whale Portfolios and the S&P 500. \n",
    "\n",
    "1. Choose 3-5 custom stocks with at last 1 year's worth of historic prices and create a DataFrame of the closing prices and dates for each stock.\n",
    "2. Calculate the weighted returns for the portfolio assuming an equal number of shares for each stock\n",
    "3. Join your portfolio returns to the DataFrame that contains all of the portfolio returns\n",
    "4. Re-run the performance and risk analysis with your portfolio to see how it compares to the others\n",
    "5. Include correlation analysis to determine which stocks (if any) are correlated"
   ]
  },
  {
   "cell_type": "markdown",
   "metadata": {},
   "source": [
    "## Choose 3-5 custom stocks with at last 1 year's worth of historic prices and create a DataFrame of the closing prices and dates for each stock."
   ]
  },
  {
   "cell_type": "code",
   "execution_count": 70,
   "metadata": {},
   "outputs": [],
   "source": [
    "# Reading data from 1st stock\n",
    "csvpath = Path(\"../Presentations/AAPL - Sheet1.csv\")\n",
    "aapl_csv = pd.read_csv(csvpath)\n",
    "aapl_csv = aapl_csv.assign(AAPL=\"AAPL\")\n"
   ]
  },
  {
   "cell_type": "code",
   "execution_count": 71,
   "metadata": {},
   "outputs": [],
   "source": [
    "# Reading data from 2nd stock\n",
    "csvpath = Path(\"../Presentations/Goog - Sheet1.csv\")\n",
    "goog_csv = pd.read_csv(csvpath)\n",
    "goog_csv = goog_csv.assign(GOOG=\"GOOG\")"
   ]
  },
  {
   "cell_type": "code",
   "execution_count": 72,
   "metadata": {},
   "outputs": [],
   "source": [
    "# Reading data from 3rd stock\n",
    "csvpath = Path(\"../Presentations/TSLA - Sheet1.csv\")\n",
    "tsla_csv = pd.read_csv(csvpath)\n",
    "tsla_csv = tsla_csv.assign(TSLA=\"TSLA\")"
   ]
  },
  {
   "cell_type": "code",
   "execution_count": 73,
   "metadata": {},
   "outputs": [
    {
     "data": {
      "text/html": [
       "<div>\n",
       "<style scoped>\n",
       "    .dataframe tbody tr th:only-of-type {\n",
       "        vertical-align: middle;\n",
       "    }\n",
       "\n",
       "    .dataframe tbody tr th {\n",
       "        vertical-align: top;\n",
       "    }\n",
       "\n",
       "    .dataframe thead th {\n",
       "        text-align: right;\n",
       "    }\n",
       "</style>\n",
       "<table border=\"1\" class=\"dataframe\">\n",
       "  <thead>\n",
       "    <tr style=\"text-align: right;\">\n",
       "      <th></th>\n",
       "      <th>Date</th>\n",
       "      <th>Close</th>\n",
       "      <th>AAPL</th>\n",
       "      <th>Date</th>\n",
       "      <th>Close</th>\n",
       "      <th>TSLA</th>\n",
       "      <th>Date</th>\n",
       "      <th>Close</th>\n",
       "      <th>GOOG</th>\n",
       "    </tr>\n",
       "  </thead>\n",
       "  <tbody>\n",
       "    <tr>\n",
       "      <th>0</th>\n",
       "      <td>1/4/2021 16:00:00</td>\n",
       "      <td>129.41</td>\n",
       "      <td>AAPL</td>\n",
       "      <td>1/4/2021 16:00:00</td>\n",
       "      <td>729.77</td>\n",
       "      <td>TSLA</td>\n",
       "      <td>1/4/2021 16:00:00</td>\n",
       "      <td>1728.24</td>\n",
       "      <td>GOOG</td>\n",
       "    </tr>\n",
       "    <tr>\n",
       "      <th>1</th>\n",
       "      <td>1/5/2021 16:00:00</td>\n",
       "      <td>131.01</td>\n",
       "      <td>AAPL</td>\n",
       "      <td>1/5/2021 16:00:00</td>\n",
       "      <td>735.11</td>\n",
       "      <td>TSLA</td>\n",
       "      <td>1/5/2021 16:00:00</td>\n",
       "      <td>1740.92</td>\n",
       "      <td>GOOG</td>\n",
       "    </tr>\n",
       "    <tr>\n",
       "      <th>2</th>\n",
       "      <td>1/6/2021 16:00:00</td>\n",
       "      <td>126.60</td>\n",
       "      <td>AAPL</td>\n",
       "      <td>1/6/2021 16:00:00</td>\n",
       "      <td>755.98</td>\n",
       "      <td>TSLA</td>\n",
       "      <td>1/6/2021 16:00:00</td>\n",
       "      <td>1735.29</td>\n",
       "      <td>GOOG</td>\n",
       "    </tr>\n",
       "    <tr>\n",
       "      <th>3</th>\n",
       "      <td>1/7/2021 16:00:00</td>\n",
       "      <td>130.92</td>\n",
       "      <td>AAPL</td>\n",
       "      <td>1/7/2021 16:00:00</td>\n",
       "      <td>816.04</td>\n",
       "      <td>TSLA</td>\n",
       "      <td>1/7/2021 16:00:00</td>\n",
       "      <td>1787.25</td>\n",
       "      <td>GOOG</td>\n",
       "    </tr>\n",
       "    <tr>\n",
       "      <th>4</th>\n",
       "      <td>1/8/2021 16:00:00</td>\n",
       "      <td>132.05</td>\n",
       "      <td>AAPL</td>\n",
       "      <td>1/8/2021 16:00:00</td>\n",
       "      <td>880.02</td>\n",
       "      <td>TSLA</td>\n",
       "      <td>1/8/2021 16:00:00</td>\n",
       "      <td>1807.21</td>\n",
       "      <td>GOOG</td>\n",
       "    </tr>\n",
       "    <tr>\n",
       "      <th>...</th>\n",
       "      <td>...</td>\n",
       "      <td>...</td>\n",
       "      <td>...</td>\n",
       "      <td>...</td>\n",
       "      <td>...</td>\n",
       "      <td>...</td>\n",
       "      <td>...</td>\n",
       "      <td>...</td>\n",
       "      <td>...</td>\n",
       "    </tr>\n",
       "    <tr>\n",
       "      <th>316</th>\n",
       "      <td>4/5/2022 16:00:00</td>\n",
       "      <td>175.06</td>\n",
       "      <td>AAPL</td>\n",
       "      <td>4/5/2022 16:00:00</td>\n",
       "      <td>1091.26</td>\n",
       "      <td>TSLA</td>\n",
       "      <td>4/5/2022 16:00:00</td>\n",
       "      <td>2821.26</td>\n",
       "      <td>GOOG</td>\n",
       "    </tr>\n",
       "    <tr>\n",
       "      <th>317</th>\n",
       "      <td>4/6/2022 16:00:00</td>\n",
       "      <td>171.83</td>\n",
       "      <td>AAPL</td>\n",
       "      <td>4/6/2022 16:00:00</td>\n",
       "      <td>1045.76</td>\n",
       "      <td>TSLA</td>\n",
       "      <td>4/6/2022 16:00:00</td>\n",
       "      <td>2743.52</td>\n",
       "      <td>GOOG</td>\n",
       "    </tr>\n",
       "    <tr>\n",
       "      <th>318</th>\n",
       "      <td>4/7/2022 16:00:00</td>\n",
       "      <td>172.14</td>\n",
       "      <td>AAPL</td>\n",
       "      <td>4/7/2022 16:00:00</td>\n",
       "      <td>1057.26</td>\n",
       "      <td>TSLA</td>\n",
       "      <td>4/7/2022 16:00:00</td>\n",
       "      <td>2729.30</td>\n",
       "      <td>GOOG</td>\n",
       "    </tr>\n",
       "    <tr>\n",
       "      <th>319</th>\n",
       "      <td>4/8/2022 16:00:00</td>\n",
       "      <td>170.09</td>\n",
       "      <td>AAPL</td>\n",
       "      <td>4/8/2022 16:00:00</td>\n",
       "      <td>1025.49</td>\n",
       "      <td>TSLA</td>\n",
       "      <td>4/8/2022 16:00:00</td>\n",
       "      <td>2680.21</td>\n",
       "      <td>GOOG</td>\n",
       "    </tr>\n",
       "    <tr>\n",
       "      <th>320</th>\n",
       "      <td>4/11/2022 16:00:00</td>\n",
       "      <td>165.75</td>\n",
       "      <td>AAPL</td>\n",
       "      <td>4/11/2022 16:00:00</td>\n",
       "      <td>975.93</td>\n",
       "      <td>TSLA</td>\n",
       "      <td>4/11/2022 16:00:00</td>\n",
       "      <td>2595.93</td>\n",
       "      <td>GOOG</td>\n",
       "    </tr>\n",
       "  </tbody>\n",
       "</table>\n",
       "<p>321 rows × 9 columns</p>\n",
       "</div>"
      ],
      "text/plain": [
       "                   Date   Close  AAPL                Date    Close  TSLA  \\\n",
       "0     1/4/2021 16:00:00  129.41  AAPL   1/4/2021 16:00:00   729.77  TSLA   \n",
       "1     1/5/2021 16:00:00  131.01  AAPL   1/5/2021 16:00:00   735.11  TSLA   \n",
       "2     1/6/2021 16:00:00  126.60  AAPL   1/6/2021 16:00:00   755.98  TSLA   \n",
       "3     1/7/2021 16:00:00  130.92  AAPL   1/7/2021 16:00:00   816.04  TSLA   \n",
       "4     1/8/2021 16:00:00  132.05  AAPL   1/8/2021 16:00:00   880.02  TSLA   \n",
       "..                  ...     ...   ...                 ...      ...   ...   \n",
       "316   4/5/2022 16:00:00  175.06  AAPL   4/5/2022 16:00:00  1091.26  TSLA   \n",
       "317   4/6/2022 16:00:00  171.83  AAPL   4/6/2022 16:00:00  1045.76  TSLA   \n",
       "318   4/7/2022 16:00:00  172.14  AAPL   4/7/2022 16:00:00  1057.26  TSLA   \n",
       "319   4/8/2022 16:00:00  170.09  AAPL   4/8/2022 16:00:00  1025.49  TSLA   \n",
       "320  4/11/2022 16:00:00  165.75  AAPL  4/11/2022 16:00:00   975.93  TSLA   \n",
       "\n",
       "                   Date    Close  GOOG  \n",
       "0     1/4/2021 16:00:00  1728.24  GOOG  \n",
       "1     1/5/2021 16:00:00  1740.92  GOOG  \n",
       "2     1/6/2021 16:00:00  1735.29  GOOG  \n",
       "3     1/7/2021 16:00:00  1787.25  GOOG  \n",
       "4     1/8/2021 16:00:00  1807.21  GOOG  \n",
       "..                  ...      ...   ...  \n",
       "316   4/5/2022 16:00:00  2821.26  GOOG  \n",
       "317   4/6/2022 16:00:00  2743.52  GOOG  \n",
       "318   4/7/2022 16:00:00  2729.30  GOOG  \n",
       "319   4/8/2022 16:00:00  2680.21  GOOG  \n",
       "320  4/11/2022 16:00:00  2595.93  GOOG  \n",
       "\n",
       "[321 rows x 9 columns]"
      ]
     },
     "execution_count": 73,
     "metadata": {},
     "output_type": "execute_result"
    }
   ],
   "source": [
    "# Combine all stocks in a single DataFrame\n",
    "stock_csv = pd.concat([aapl_csv, tsla_csv, goog_csv], axis=\"columns\", join=\"inner\" )\n",
    "stock_csv"
   ]
  },
  {
   "cell_type": "code",
   "execution_count": 74,
   "metadata": {},
   "outputs": [],
   "source": [
    "# Reset Date index\n",
    "stock_csv.sort_index(inplace=True)"
   ]
  },
  {
   "cell_type": "code",
   "execution_count": 75,
   "metadata": {},
   "outputs": [
    {
     "data": {
      "text/html": [
       "<div>\n",
       "<style scoped>\n",
       "    .dataframe tbody tr th:only-of-type {\n",
       "        vertical-align: middle;\n",
       "    }\n",
       "\n",
       "    .dataframe tbody tr th {\n",
       "        vertical-align: top;\n",
       "    }\n",
       "\n",
       "    .dataframe thead th {\n",
       "        text-align: right;\n",
       "    }\n",
       "</style>\n",
       "<table border=\"1\" class=\"dataframe\">\n",
       "  <thead>\n",
       "    <tr style=\"text-align: right;\">\n",
       "      <th></th>\n",
       "      <th>Date</th>\n",
       "      <th>Close</th>\n",
       "      <th>AAPL</th>\n",
       "      <th>Date</th>\n",
       "      <th>Close</th>\n",
       "      <th>TSLA</th>\n",
       "      <th>Date</th>\n",
       "      <th>Close</th>\n",
       "      <th>GOOG</th>\n",
       "    </tr>\n",
       "  </thead>\n",
       "  <tbody>\n",
       "    <tr>\n",
       "      <th>0</th>\n",
       "      <td>1/4/2021 16:00:00</td>\n",
       "      <td>129.41</td>\n",
       "      <td>AAPL</td>\n",
       "      <td>1/4/2021 16:00:00</td>\n",
       "      <td>729.77</td>\n",
       "      <td>TSLA</td>\n",
       "      <td>1/4/2021 16:00:00</td>\n",
       "      <td>1728.24</td>\n",
       "      <td>GOOG</td>\n",
       "    </tr>\n",
       "    <tr>\n",
       "      <th>1</th>\n",
       "      <td>1/5/2021 16:00:00</td>\n",
       "      <td>131.01</td>\n",
       "      <td>AAPL</td>\n",
       "      <td>1/5/2021 16:00:00</td>\n",
       "      <td>735.11</td>\n",
       "      <td>TSLA</td>\n",
       "      <td>1/5/2021 16:00:00</td>\n",
       "      <td>1740.92</td>\n",
       "      <td>GOOG</td>\n",
       "    </tr>\n",
       "    <tr>\n",
       "      <th>2</th>\n",
       "      <td>1/6/2021 16:00:00</td>\n",
       "      <td>126.60</td>\n",
       "      <td>AAPL</td>\n",
       "      <td>1/6/2021 16:00:00</td>\n",
       "      <td>755.98</td>\n",
       "      <td>TSLA</td>\n",
       "      <td>1/6/2021 16:00:00</td>\n",
       "      <td>1735.29</td>\n",
       "      <td>GOOG</td>\n",
       "    </tr>\n",
       "    <tr>\n",
       "      <th>3</th>\n",
       "      <td>1/7/2021 16:00:00</td>\n",
       "      <td>130.92</td>\n",
       "      <td>AAPL</td>\n",
       "      <td>1/7/2021 16:00:00</td>\n",
       "      <td>816.04</td>\n",
       "      <td>TSLA</td>\n",
       "      <td>1/7/2021 16:00:00</td>\n",
       "      <td>1787.25</td>\n",
       "      <td>GOOG</td>\n",
       "    </tr>\n",
       "    <tr>\n",
       "      <th>4</th>\n",
       "      <td>1/8/2021 16:00:00</td>\n",
       "      <td>132.05</td>\n",
       "      <td>AAPL</td>\n",
       "      <td>1/8/2021 16:00:00</td>\n",
       "      <td>880.02</td>\n",
       "      <td>TSLA</td>\n",
       "      <td>1/8/2021 16:00:00</td>\n",
       "      <td>1807.21</td>\n",
       "      <td>GOOG</td>\n",
       "    </tr>\n",
       "    <tr>\n",
       "      <th>...</th>\n",
       "      <td>...</td>\n",
       "      <td>...</td>\n",
       "      <td>...</td>\n",
       "      <td>...</td>\n",
       "      <td>...</td>\n",
       "      <td>...</td>\n",
       "      <td>...</td>\n",
       "      <td>...</td>\n",
       "      <td>...</td>\n",
       "    </tr>\n",
       "    <tr>\n",
       "      <th>316</th>\n",
       "      <td>4/5/2022 16:00:00</td>\n",
       "      <td>175.06</td>\n",
       "      <td>AAPL</td>\n",
       "      <td>4/5/2022 16:00:00</td>\n",
       "      <td>1091.26</td>\n",
       "      <td>TSLA</td>\n",
       "      <td>4/5/2022 16:00:00</td>\n",
       "      <td>2821.26</td>\n",
       "      <td>GOOG</td>\n",
       "    </tr>\n",
       "    <tr>\n",
       "      <th>317</th>\n",
       "      <td>4/6/2022 16:00:00</td>\n",
       "      <td>171.83</td>\n",
       "      <td>AAPL</td>\n",
       "      <td>4/6/2022 16:00:00</td>\n",
       "      <td>1045.76</td>\n",
       "      <td>TSLA</td>\n",
       "      <td>4/6/2022 16:00:00</td>\n",
       "      <td>2743.52</td>\n",
       "      <td>GOOG</td>\n",
       "    </tr>\n",
       "    <tr>\n",
       "      <th>318</th>\n",
       "      <td>4/7/2022 16:00:00</td>\n",
       "      <td>172.14</td>\n",
       "      <td>AAPL</td>\n",
       "      <td>4/7/2022 16:00:00</td>\n",
       "      <td>1057.26</td>\n",
       "      <td>TSLA</td>\n",
       "      <td>4/7/2022 16:00:00</td>\n",
       "      <td>2729.30</td>\n",
       "      <td>GOOG</td>\n",
       "    </tr>\n",
       "    <tr>\n",
       "      <th>319</th>\n",
       "      <td>4/8/2022 16:00:00</td>\n",
       "      <td>170.09</td>\n",
       "      <td>AAPL</td>\n",
       "      <td>4/8/2022 16:00:00</td>\n",
       "      <td>1025.49</td>\n",
       "      <td>TSLA</td>\n",
       "      <td>4/8/2022 16:00:00</td>\n",
       "      <td>2680.21</td>\n",
       "      <td>GOOG</td>\n",
       "    </tr>\n",
       "    <tr>\n",
       "      <th>320</th>\n",
       "      <td>4/11/2022 16:00:00</td>\n",
       "      <td>165.75</td>\n",
       "      <td>AAPL</td>\n",
       "      <td>4/11/2022 16:00:00</td>\n",
       "      <td>975.93</td>\n",
       "      <td>TSLA</td>\n",
       "      <td>4/11/2022 16:00:00</td>\n",
       "      <td>2595.93</td>\n",
       "      <td>GOOG</td>\n",
       "    </tr>\n",
       "  </tbody>\n",
       "</table>\n",
       "<p>321 rows × 9 columns</p>\n",
       "</div>"
      ],
      "text/plain": [
       "                   Date   Close  AAPL                Date    Close  TSLA  \\\n",
       "0     1/4/2021 16:00:00  129.41  AAPL   1/4/2021 16:00:00   729.77  TSLA   \n",
       "1     1/5/2021 16:00:00  131.01  AAPL   1/5/2021 16:00:00   735.11  TSLA   \n",
       "2     1/6/2021 16:00:00  126.60  AAPL   1/6/2021 16:00:00   755.98  TSLA   \n",
       "3     1/7/2021 16:00:00  130.92  AAPL   1/7/2021 16:00:00   816.04  TSLA   \n",
       "4     1/8/2021 16:00:00  132.05  AAPL   1/8/2021 16:00:00   880.02  TSLA   \n",
       "..                  ...     ...   ...                 ...      ...   ...   \n",
       "316   4/5/2022 16:00:00  175.06  AAPL   4/5/2022 16:00:00  1091.26  TSLA   \n",
       "317   4/6/2022 16:00:00  171.83  AAPL   4/6/2022 16:00:00  1045.76  TSLA   \n",
       "318   4/7/2022 16:00:00  172.14  AAPL   4/7/2022 16:00:00  1057.26  TSLA   \n",
       "319   4/8/2022 16:00:00  170.09  AAPL   4/8/2022 16:00:00  1025.49  TSLA   \n",
       "320  4/11/2022 16:00:00  165.75  AAPL  4/11/2022 16:00:00   975.93  TSLA   \n",
       "\n",
       "                   Date    Close  GOOG  \n",
       "0     1/4/2021 16:00:00  1728.24  GOOG  \n",
       "1     1/5/2021 16:00:00  1740.92  GOOG  \n",
       "2     1/6/2021 16:00:00  1735.29  GOOG  \n",
       "3     1/7/2021 16:00:00  1787.25  GOOG  \n",
       "4     1/8/2021 16:00:00  1807.21  GOOG  \n",
       "..                  ...      ...   ...  \n",
       "316   4/5/2022 16:00:00  2821.26  GOOG  \n",
       "317   4/6/2022 16:00:00  2743.52  GOOG  \n",
       "318   4/7/2022 16:00:00  2729.30  GOOG  \n",
       "319   4/8/2022 16:00:00  2680.21  GOOG  \n",
       "320  4/11/2022 16:00:00  2595.93  GOOG  \n",
       "\n",
       "[321 rows x 9 columns]"
      ]
     },
     "execution_count": 75,
     "metadata": {},
     "output_type": "execute_result"
    }
   ],
   "source": [
    "# Reorganize portfolio data by having a column per symbol\n",
    "stock_csv"
   ]
  },
  {
   "cell_type": "code",
   "execution_count": 76,
   "metadata": {},
   "outputs": [
    {
     "data": {
      "text/html": [
       "<div>\n",
       "<style scoped>\n",
       "    .dataframe tbody tr th:only-of-type {\n",
       "        vertical-align: middle;\n",
       "    }\n",
       "\n",
       "    .dataframe tbody tr th {\n",
       "        vertical-align: top;\n",
       "    }\n",
       "\n",
       "    .dataframe thead th {\n",
       "        text-align: right;\n",
       "    }\n",
       "</style>\n",
       "<table border=\"1\" class=\"dataframe\">\n",
       "  <thead>\n",
       "    <tr style=\"text-align: right;\">\n",
       "      <th></th>\n",
       "      <th>Close</th>\n",
       "      <th>Close</th>\n",
       "      <th>Close</th>\n",
       "    </tr>\n",
       "  </thead>\n",
       "  <tbody>\n",
       "    <tr>\n",
       "      <th>1</th>\n",
       "      <td>0.012364</td>\n",
       "      <td>0.007317</td>\n",
       "      <td>0.007337</td>\n",
       "    </tr>\n",
       "    <tr>\n",
       "      <th>2</th>\n",
       "      <td>-0.033662</td>\n",
       "      <td>0.028390</td>\n",
       "      <td>-0.003234</td>\n",
       "    </tr>\n",
       "    <tr>\n",
       "      <th>3</th>\n",
       "      <td>0.034123</td>\n",
       "      <td>0.079447</td>\n",
       "      <td>0.029943</td>\n",
       "    </tr>\n",
       "    <tr>\n",
       "      <th>4</th>\n",
       "      <td>0.008631</td>\n",
       "      <td>0.078403</td>\n",
       "      <td>0.011168</td>\n",
       "    </tr>\n",
       "    <tr>\n",
       "      <th>5</th>\n",
       "      <td>-0.023249</td>\n",
       "      <td>-0.078214</td>\n",
       "      <td>-0.022405</td>\n",
       "    </tr>\n",
       "    <tr>\n",
       "      <th>...</th>\n",
       "      <td>...</td>\n",
       "      <td>...</td>\n",
       "      <td>...</td>\n",
       "    </tr>\n",
       "    <tr>\n",
       "      <th>316</th>\n",
       "      <td>-0.018942</td>\n",
       "      <td>-0.047309</td>\n",
       "      <td>-0.017958</td>\n",
       "    </tr>\n",
       "    <tr>\n",
       "      <th>317</th>\n",
       "      <td>-0.018451</td>\n",
       "      <td>-0.041695</td>\n",
       "      <td>-0.027555</td>\n",
       "    </tr>\n",
       "    <tr>\n",
       "      <th>318</th>\n",
       "      <td>0.001804</td>\n",
       "      <td>0.010997</td>\n",
       "      <td>-0.005183</td>\n",
       "    </tr>\n",
       "    <tr>\n",
       "      <th>319</th>\n",
       "      <td>-0.011909</td>\n",
       "      <td>-0.030049</td>\n",
       "      <td>-0.017986</td>\n",
       "    </tr>\n",
       "    <tr>\n",
       "      <th>320</th>\n",
       "      <td>-0.025516</td>\n",
       "      <td>-0.048328</td>\n",
       "      <td>-0.031445</td>\n",
       "    </tr>\n",
       "  </tbody>\n",
       "</table>\n",
       "<p>320 rows × 3 columns</p>\n",
       "</div>"
      ],
      "text/plain": [
       "        Close     Close     Close\n",
       "1    0.012364  0.007317  0.007337\n",
       "2   -0.033662  0.028390 -0.003234\n",
       "3    0.034123  0.079447  0.029943\n",
       "4    0.008631  0.078403  0.011168\n",
       "5   -0.023249 -0.078214 -0.022405\n",
       "..        ...       ...       ...\n",
       "316 -0.018942 -0.047309 -0.017958\n",
       "317 -0.018451 -0.041695 -0.027555\n",
       "318  0.001804  0.010997 -0.005183\n",
       "319 -0.011909 -0.030049 -0.017986\n",
       "320 -0.025516 -0.048328 -0.031445\n",
       "\n",
       "[320 rows x 3 columns]"
      ]
     },
     "execution_count": 76,
     "metadata": {},
     "output_type": "execute_result"
    }
   ],
   "source": [
    "# Calculate daily returns\n",
    "stock_csv['Close'].pct_change()\n",
    "# Drop NAs\n",
    "stock_csv['Close'].dropna()\n",
    "# Display sample data\n",
    "stock_daily_returns = stock_csv['Close'].pct_change()\n",
    "stock_daily_returns.dropna()\n"
   ]
  },
  {
   "cell_type": "markdown",
   "metadata": {},
   "source": [
    "## Calculate the weighted returns for the portfolio assuming an equal number of shares for each stock"
   ]
  },
  {
   "cell_type": "code",
   "execution_count": 77,
   "metadata": {},
   "outputs": [
    {
     "data": {
      "text/plain": [
       "0           NaN\n",
       "1      0.009006\n",
       "2     -0.002835\n",
       "3      0.047838\n",
       "4      0.032734\n",
       "         ...   \n",
       "316   -0.028070\n",
       "317   -0.029234\n",
       "318    0.002539\n",
       "319   -0.019982\n",
       "320   -0.035096\n",
       "Length: 321, dtype: float64"
      ]
     },
     "execution_count": 77,
     "metadata": {},
     "output_type": "execute_result"
    }
   ],
   "source": [
    "# Set weights\n",
    "weights = [1/3, 1/3, 1/3]\n",
    "\n",
    "# Calculate portfolio return\n",
    "stock_daily_returns = stock_daily_returns.dot(weights)\n",
    "# Display sample data\n",
    "stock_daily_returns"
   ]
  },
  {
   "cell_type": "markdown",
   "metadata": {},
   "source": [
    "## Join your portfolio returns to the DataFrame that contains all of the portfolio returns"
   ]
  },
  {
   "cell_type": "code",
   "execution_count": 78,
   "metadata": {},
   "outputs": [
    {
     "data": {
      "text/html": [
       "<div>\n",
       "<style scoped>\n",
       "    .dataframe tbody tr th:only-of-type {\n",
       "        vertical-align: middle;\n",
       "    }\n",
       "\n",
       "    .dataframe tbody tr th {\n",
       "        vertical-align: top;\n",
       "    }\n",
       "\n",
       "    .dataframe thead th {\n",
       "        text-align: right;\n",
       "    }\n",
       "</style>\n",
       "<table border=\"1\" class=\"dataframe\">\n",
       "  <thead>\n",
       "    <tr style=\"text-align: right;\">\n",
       "      <th></th>\n",
       "      <th>0</th>\n",
       "      <th>Date</th>\n",
       "      <th>Close</th>\n",
       "      <th>AAPL</th>\n",
       "      <th>Date</th>\n",
       "      <th>Close</th>\n",
       "      <th>TSLA</th>\n",
       "      <th>Date</th>\n",
       "      <th>Close</th>\n",
       "      <th>GOOG</th>\n",
       "    </tr>\n",
       "  </thead>\n",
       "  <tbody>\n",
       "    <tr>\n",
       "      <th>0</th>\n",
       "      <td>NaN</td>\n",
       "      <td>1/4/2021 16:00:00</td>\n",
       "      <td>129.41</td>\n",
       "      <td>AAPL</td>\n",
       "      <td>1/4/2021 16:00:00</td>\n",
       "      <td>729.77</td>\n",
       "      <td>TSLA</td>\n",
       "      <td>1/4/2021 16:00:00</td>\n",
       "      <td>1728.24</td>\n",
       "      <td>GOOG</td>\n",
       "    </tr>\n",
       "    <tr>\n",
       "      <th>1</th>\n",
       "      <td>0.009006</td>\n",
       "      <td>1/5/2021 16:00:00</td>\n",
       "      <td>131.01</td>\n",
       "      <td>AAPL</td>\n",
       "      <td>1/5/2021 16:00:00</td>\n",
       "      <td>735.11</td>\n",
       "      <td>TSLA</td>\n",
       "      <td>1/5/2021 16:00:00</td>\n",
       "      <td>1740.92</td>\n",
       "      <td>GOOG</td>\n",
       "    </tr>\n",
       "    <tr>\n",
       "      <th>2</th>\n",
       "      <td>-0.002835</td>\n",
       "      <td>1/6/2021 16:00:00</td>\n",
       "      <td>126.60</td>\n",
       "      <td>AAPL</td>\n",
       "      <td>1/6/2021 16:00:00</td>\n",
       "      <td>755.98</td>\n",
       "      <td>TSLA</td>\n",
       "      <td>1/6/2021 16:00:00</td>\n",
       "      <td>1735.29</td>\n",
       "      <td>GOOG</td>\n",
       "    </tr>\n",
       "    <tr>\n",
       "      <th>3</th>\n",
       "      <td>0.047838</td>\n",
       "      <td>1/7/2021 16:00:00</td>\n",
       "      <td>130.92</td>\n",
       "      <td>AAPL</td>\n",
       "      <td>1/7/2021 16:00:00</td>\n",
       "      <td>816.04</td>\n",
       "      <td>TSLA</td>\n",
       "      <td>1/7/2021 16:00:00</td>\n",
       "      <td>1787.25</td>\n",
       "      <td>GOOG</td>\n",
       "    </tr>\n",
       "    <tr>\n",
       "      <th>4</th>\n",
       "      <td>0.032734</td>\n",
       "      <td>1/8/2021 16:00:00</td>\n",
       "      <td>132.05</td>\n",
       "      <td>AAPL</td>\n",
       "      <td>1/8/2021 16:00:00</td>\n",
       "      <td>880.02</td>\n",
       "      <td>TSLA</td>\n",
       "      <td>1/8/2021 16:00:00</td>\n",
       "      <td>1807.21</td>\n",
       "      <td>GOOG</td>\n",
       "    </tr>\n",
       "    <tr>\n",
       "      <th>...</th>\n",
       "      <td>...</td>\n",
       "      <td>...</td>\n",
       "      <td>...</td>\n",
       "      <td>...</td>\n",
       "      <td>...</td>\n",
       "      <td>...</td>\n",
       "      <td>...</td>\n",
       "      <td>...</td>\n",
       "      <td>...</td>\n",
       "      <td>...</td>\n",
       "    </tr>\n",
       "    <tr>\n",
       "      <th>316</th>\n",
       "      <td>-0.028070</td>\n",
       "      <td>4/5/2022 16:00:00</td>\n",
       "      <td>175.06</td>\n",
       "      <td>AAPL</td>\n",
       "      <td>4/5/2022 16:00:00</td>\n",
       "      <td>1091.26</td>\n",
       "      <td>TSLA</td>\n",
       "      <td>4/5/2022 16:00:00</td>\n",
       "      <td>2821.26</td>\n",
       "      <td>GOOG</td>\n",
       "    </tr>\n",
       "    <tr>\n",
       "      <th>317</th>\n",
       "      <td>-0.029234</td>\n",
       "      <td>4/6/2022 16:00:00</td>\n",
       "      <td>171.83</td>\n",
       "      <td>AAPL</td>\n",
       "      <td>4/6/2022 16:00:00</td>\n",
       "      <td>1045.76</td>\n",
       "      <td>TSLA</td>\n",
       "      <td>4/6/2022 16:00:00</td>\n",
       "      <td>2743.52</td>\n",
       "      <td>GOOG</td>\n",
       "    </tr>\n",
       "    <tr>\n",
       "      <th>318</th>\n",
       "      <td>0.002539</td>\n",
       "      <td>4/7/2022 16:00:00</td>\n",
       "      <td>172.14</td>\n",
       "      <td>AAPL</td>\n",
       "      <td>4/7/2022 16:00:00</td>\n",
       "      <td>1057.26</td>\n",
       "      <td>TSLA</td>\n",
       "      <td>4/7/2022 16:00:00</td>\n",
       "      <td>2729.30</td>\n",
       "      <td>GOOG</td>\n",
       "    </tr>\n",
       "    <tr>\n",
       "      <th>319</th>\n",
       "      <td>-0.019982</td>\n",
       "      <td>4/8/2022 16:00:00</td>\n",
       "      <td>170.09</td>\n",
       "      <td>AAPL</td>\n",
       "      <td>4/8/2022 16:00:00</td>\n",
       "      <td>1025.49</td>\n",
       "      <td>TSLA</td>\n",
       "      <td>4/8/2022 16:00:00</td>\n",
       "      <td>2680.21</td>\n",
       "      <td>GOOG</td>\n",
       "    </tr>\n",
       "    <tr>\n",
       "      <th>320</th>\n",
       "      <td>-0.035096</td>\n",
       "      <td>4/11/2022 16:00:00</td>\n",
       "      <td>165.75</td>\n",
       "      <td>AAPL</td>\n",
       "      <td>4/11/2022 16:00:00</td>\n",
       "      <td>975.93</td>\n",
       "      <td>TSLA</td>\n",
       "      <td>4/11/2022 16:00:00</td>\n",
       "      <td>2595.93</td>\n",
       "      <td>GOOG</td>\n",
       "    </tr>\n",
       "  </tbody>\n",
       "</table>\n",
       "<p>321 rows × 10 columns</p>\n",
       "</div>"
      ],
      "text/plain": [
       "            0                Date   Close  AAPL                Date    Close  \\\n",
       "0         NaN   1/4/2021 16:00:00  129.41  AAPL   1/4/2021 16:00:00   729.77   \n",
       "1    0.009006   1/5/2021 16:00:00  131.01  AAPL   1/5/2021 16:00:00   735.11   \n",
       "2   -0.002835   1/6/2021 16:00:00  126.60  AAPL   1/6/2021 16:00:00   755.98   \n",
       "3    0.047838   1/7/2021 16:00:00  130.92  AAPL   1/7/2021 16:00:00   816.04   \n",
       "4    0.032734   1/8/2021 16:00:00  132.05  AAPL   1/8/2021 16:00:00   880.02   \n",
       "..        ...                 ...     ...   ...                 ...      ...   \n",
       "316 -0.028070   4/5/2022 16:00:00  175.06  AAPL   4/5/2022 16:00:00  1091.26   \n",
       "317 -0.029234   4/6/2022 16:00:00  171.83  AAPL   4/6/2022 16:00:00  1045.76   \n",
       "318  0.002539   4/7/2022 16:00:00  172.14  AAPL   4/7/2022 16:00:00  1057.26   \n",
       "319 -0.019982   4/8/2022 16:00:00  170.09  AAPL   4/8/2022 16:00:00  1025.49   \n",
       "320 -0.035096  4/11/2022 16:00:00  165.75  AAPL  4/11/2022 16:00:00   975.93   \n",
       "\n",
       "     TSLA                Date    Close  GOOG  \n",
       "0    TSLA   1/4/2021 16:00:00  1728.24  GOOG  \n",
       "1    TSLA   1/5/2021 16:00:00  1740.92  GOOG  \n",
       "2    TSLA   1/6/2021 16:00:00  1735.29  GOOG  \n",
       "3    TSLA   1/7/2021 16:00:00  1787.25  GOOG  \n",
       "4    TSLA   1/8/2021 16:00:00  1807.21  GOOG  \n",
       "..    ...                 ...      ...   ...  \n",
       "316  TSLA   4/5/2022 16:00:00  2821.26  GOOG  \n",
       "317  TSLA   4/6/2022 16:00:00  2743.52  GOOG  \n",
       "318  TSLA   4/7/2022 16:00:00  2729.30  GOOG  \n",
       "319  TSLA   4/8/2022 16:00:00  2680.21  GOOG  \n",
       "320  TSLA  4/11/2022 16:00:00  2595.93  GOOG  \n",
       "\n",
       "[321 rows x 10 columns]"
      ]
     },
     "execution_count": 78,
     "metadata": {},
     "output_type": "execute_result"
    }
   ],
   "source": [
    "# Join your returns DataFrame to the original returns DataFrame\n",
    "stock_csv = pd.concat([stock_daily_returns, stock_csv],axis=\"columns\", join=\"inner\")\n",
    "\n",
    "stock_csv"
   ]
  },
  {
   "cell_type": "code",
   "execution_count": 79,
   "metadata": {},
   "outputs": [
    {
     "data": {
      "text/html": [
       "<div>\n",
       "<style scoped>\n",
       "    .dataframe tbody tr th:only-of-type {\n",
       "        vertical-align: middle;\n",
       "    }\n",
       "\n",
       "    .dataframe tbody tr th {\n",
       "        vertical-align: top;\n",
       "    }\n",
       "\n",
       "    .dataframe thead th {\n",
       "        text-align: right;\n",
       "    }\n",
       "</style>\n",
       "<table border=\"1\" class=\"dataframe\">\n",
       "  <thead>\n",
       "    <tr style=\"text-align: right;\">\n",
       "      <th></th>\n",
       "      <th>0</th>\n",
       "      <th>Date</th>\n",
       "      <th>Close</th>\n",
       "      <th>AAPL</th>\n",
       "      <th>Date</th>\n",
       "      <th>Close</th>\n",
       "      <th>TSLA</th>\n",
       "      <th>Date</th>\n",
       "      <th>Close</th>\n",
       "      <th>GOOG</th>\n",
       "    </tr>\n",
       "  </thead>\n",
       "  <tbody>\n",
       "    <tr>\n",
       "      <th>1</th>\n",
       "      <td>0.009006</td>\n",
       "      <td>1/5/2021 16:00:00</td>\n",
       "      <td>131.01</td>\n",
       "      <td>AAPL</td>\n",
       "      <td>1/5/2021 16:00:00</td>\n",
       "      <td>735.11</td>\n",
       "      <td>TSLA</td>\n",
       "      <td>1/5/2021 16:00:00</td>\n",
       "      <td>1740.92</td>\n",
       "      <td>GOOG</td>\n",
       "    </tr>\n",
       "    <tr>\n",
       "      <th>2</th>\n",
       "      <td>-0.002835</td>\n",
       "      <td>1/6/2021 16:00:00</td>\n",
       "      <td>126.60</td>\n",
       "      <td>AAPL</td>\n",
       "      <td>1/6/2021 16:00:00</td>\n",
       "      <td>755.98</td>\n",
       "      <td>TSLA</td>\n",
       "      <td>1/6/2021 16:00:00</td>\n",
       "      <td>1735.29</td>\n",
       "      <td>GOOG</td>\n",
       "    </tr>\n",
       "    <tr>\n",
       "      <th>3</th>\n",
       "      <td>0.047838</td>\n",
       "      <td>1/7/2021 16:00:00</td>\n",
       "      <td>130.92</td>\n",
       "      <td>AAPL</td>\n",
       "      <td>1/7/2021 16:00:00</td>\n",
       "      <td>816.04</td>\n",
       "      <td>TSLA</td>\n",
       "      <td>1/7/2021 16:00:00</td>\n",
       "      <td>1787.25</td>\n",
       "      <td>GOOG</td>\n",
       "    </tr>\n",
       "    <tr>\n",
       "      <th>4</th>\n",
       "      <td>0.032734</td>\n",
       "      <td>1/8/2021 16:00:00</td>\n",
       "      <td>132.05</td>\n",
       "      <td>AAPL</td>\n",
       "      <td>1/8/2021 16:00:00</td>\n",
       "      <td>880.02</td>\n",
       "      <td>TSLA</td>\n",
       "      <td>1/8/2021 16:00:00</td>\n",
       "      <td>1807.21</td>\n",
       "      <td>GOOG</td>\n",
       "    </tr>\n",
       "    <tr>\n",
       "      <th>5</th>\n",
       "      <td>-0.041289</td>\n",
       "      <td>1/11/2021 16:00:00</td>\n",
       "      <td>128.98</td>\n",
       "      <td>AAPL</td>\n",
       "      <td>1/11/2021 16:00:00</td>\n",
       "      <td>811.19</td>\n",
       "      <td>TSLA</td>\n",
       "      <td>1/11/2021 16:00:00</td>\n",
       "      <td>1766.72</td>\n",
       "      <td>GOOG</td>\n",
       "    </tr>\n",
       "    <tr>\n",
       "      <th>...</th>\n",
       "      <td>...</td>\n",
       "      <td>...</td>\n",
       "      <td>...</td>\n",
       "      <td>...</td>\n",
       "      <td>...</td>\n",
       "      <td>...</td>\n",
       "      <td>...</td>\n",
       "      <td>...</td>\n",
       "      <td>...</td>\n",
       "      <td>...</td>\n",
       "    </tr>\n",
       "    <tr>\n",
       "      <th>316</th>\n",
       "      <td>-0.028070</td>\n",
       "      <td>4/5/2022 16:00:00</td>\n",
       "      <td>175.06</td>\n",
       "      <td>AAPL</td>\n",
       "      <td>4/5/2022 16:00:00</td>\n",
       "      <td>1091.26</td>\n",
       "      <td>TSLA</td>\n",
       "      <td>4/5/2022 16:00:00</td>\n",
       "      <td>2821.26</td>\n",
       "      <td>GOOG</td>\n",
       "    </tr>\n",
       "    <tr>\n",
       "      <th>317</th>\n",
       "      <td>-0.029234</td>\n",
       "      <td>4/6/2022 16:00:00</td>\n",
       "      <td>171.83</td>\n",
       "      <td>AAPL</td>\n",
       "      <td>4/6/2022 16:00:00</td>\n",
       "      <td>1045.76</td>\n",
       "      <td>TSLA</td>\n",
       "      <td>4/6/2022 16:00:00</td>\n",
       "      <td>2743.52</td>\n",
       "      <td>GOOG</td>\n",
       "    </tr>\n",
       "    <tr>\n",
       "      <th>318</th>\n",
       "      <td>0.002539</td>\n",
       "      <td>4/7/2022 16:00:00</td>\n",
       "      <td>172.14</td>\n",
       "      <td>AAPL</td>\n",
       "      <td>4/7/2022 16:00:00</td>\n",
       "      <td>1057.26</td>\n",
       "      <td>TSLA</td>\n",
       "      <td>4/7/2022 16:00:00</td>\n",
       "      <td>2729.30</td>\n",
       "      <td>GOOG</td>\n",
       "    </tr>\n",
       "    <tr>\n",
       "      <th>319</th>\n",
       "      <td>-0.019982</td>\n",
       "      <td>4/8/2022 16:00:00</td>\n",
       "      <td>170.09</td>\n",
       "      <td>AAPL</td>\n",
       "      <td>4/8/2022 16:00:00</td>\n",
       "      <td>1025.49</td>\n",
       "      <td>TSLA</td>\n",
       "      <td>4/8/2022 16:00:00</td>\n",
       "      <td>2680.21</td>\n",
       "      <td>GOOG</td>\n",
       "    </tr>\n",
       "    <tr>\n",
       "      <th>320</th>\n",
       "      <td>-0.035096</td>\n",
       "      <td>4/11/2022 16:00:00</td>\n",
       "      <td>165.75</td>\n",
       "      <td>AAPL</td>\n",
       "      <td>4/11/2022 16:00:00</td>\n",
       "      <td>975.93</td>\n",
       "      <td>TSLA</td>\n",
       "      <td>4/11/2022 16:00:00</td>\n",
       "      <td>2595.93</td>\n",
       "      <td>GOOG</td>\n",
       "    </tr>\n",
       "  </tbody>\n",
       "</table>\n",
       "<p>320 rows × 10 columns</p>\n",
       "</div>"
      ],
      "text/plain": [
       "            0                Date   Close  AAPL                Date    Close  \\\n",
       "1    0.009006   1/5/2021 16:00:00  131.01  AAPL   1/5/2021 16:00:00   735.11   \n",
       "2   -0.002835   1/6/2021 16:00:00  126.60  AAPL   1/6/2021 16:00:00   755.98   \n",
       "3    0.047838   1/7/2021 16:00:00  130.92  AAPL   1/7/2021 16:00:00   816.04   \n",
       "4    0.032734   1/8/2021 16:00:00  132.05  AAPL   1/8/2021 16:00:00   880.02   \n",
       "5   -0.041289  1/11/2021 16:00:00  128.98  AAPL  1/11/2021 16:00:00   811.19   \n",
       "..        ...                 ...     ...   ...                 ...      ...   \n",
       "316 -0.028070   4/5/2022 16:00:00  175.06  AAPL   4/5/2022 16:00:00  1091.26   \n",
       "317 -0.029234   4/6/2022 16:00:00  171.83  AAPL   4/6/2022 16:00:00  1045.76   \n",
       "318  0.002539   4/7/2022 16:00:00  172.14  AAPL   4/7/2022 16:00:00  1057.26   \n",
       "319 -0.019982   4/8/2022 16:00:00  170.09  AAPL   4/8/2022 16:00:00  1025.49   \n",
       "320 -0.035096  4/11/2022 16:00:00  165.75  AAPL  4/11/2022 16:00:00   975.93   \n",
       "\n",
       "     TSLA                Date    Close  GOOG  \n",
       "1    TSLA   1/5/2021 16:00:00  1740.92  GOOG  \n",
       "2    TSLA   1/6/2021 16:00:00  1735.29  GOOG  \n",
       "3    TSLA   1/7/2021 16:00:00  1787.25  GOOG  \n",
       "4    TSLA   1/8/2021 16:00:00  1807.21  GOOG  \n",
       "5    TSLA  1/11/2021 16:00:00  1766.72  GOOG  \n",
       "..    ...                 ...      ...   ...  \n",
       "316  TSLA   4/5/2022 16:00:00  2821.26  GOOG  \n",
       "317  TSLA   4/6/2022 16:00:00  2743.52  GOOG  \n",
       "318  TSLA   4/7/2022 16:00:00  2729.30  GOOG  \n",
       "319  TSLA   4/8/2022 16:00:00  2680.21  GOOG  \n",
       "320  TSLA  4/11/2022 16:00:00  2595.93  GOOG  \n",
       "\n",
       "[320 rows x 10 columns]"
      ]
     },
     "execution_count": 79,
     "metadata": {},
     "output_type": "execute_result"
    }
   ],
   "source": [
    "# Only compare dates where return data exists for all the stocks (drop NaNs)\n",
    "stock_csv.dropna()"
   ]
  },
  {
   "cell_type": "markdown",
   "metadata": {},
   "source": [
    "## Re-run the risk analysis with your portfolio to see how it compares to the others"
   ]
  },
  {
   "cell_type": "markdown",
   "metadata": {},
   "source": [
    "### Calculate the Annualized Standard Deviation"
   ]
  },
  {
   "cell_type": "code",
   "execution_count": 80,
   "metadata": {},
   "outputs": [
    {
     "data": {
      "text/plain": [
       "Close     4419.391637\n",
       "Close    41818.660970\n",
       "Close    85664.716908\n",
       "dtype: float64"
      ]
     },
     "execution_count": 80,
     "metadata": {},
     "output_type": "execute_result"
    }
   ],
   "source": [
    "# Calculate the annualized `std`\n",
    "stock_csv['Close'].std()*252"
   ]
  },
  {
   "cell_type": "markdown",
   "metadata": {},
   "source": [
    "### Calculate and plot rolling `std` with 21-day window"
   ]
  },
  {
   "cell_type": "code",
   "execution_count": 81,
   "metadata": {},
   "outputs": [
    {
     "data": {
      "text/html": [
       "<div>\n",
       "<style scoped>\n",
       "    .dataframe tbody tr th:only-of-type {\n",
       "        vertical-align: middle;\n",
       "    }\n",
       "\n",
       "    .dataframe tbody tr th {\n",
       "        vertical-align: top;\n",
       "    }\n",
       "\n",
       "    .dataframe thead th {\n",
       "        text-align: right;\n",
       "    }\n",
       "</style>\n",
       "<table border=\"1\" class=\"dataframe\">\n",
       "  <thead>\n",
       "    <tr style=\"text-align: right;\">\n",
       "      <th></th>\n",
       "      <th>Close</th>\n",
       "      <th>Close</th>\n",
       "      <th>Close</th>\n",
       "    </tr>\n",
       "  </thead>\n",
       "  <tbody>\n",
       "    <tr>\n",
       "      <th>20</th>\n",
       "      <td>1306.924796</td>\n",
       "      <td>11232.620807</td>\n",
       "      <td>18005.113157</td>\n",
       "    </tr>\n",
       "    <tr>\n",
       "      <th>21</th>\n",
       "      <td>1289.025354</td>\n",
       "      <td>9630.189919</td>\n",
       "      <td>21946.191561</td>\n",
       "    </tr>\n",
       "    <tr>\n",
       "      <th>22</th>\n",
       "      <td>1299.200320</td>\n",
       "      <td>7620.001283</td>\n",
       "      <td>24546.784557</td>\n",
       "    </tr>\n",
       "    <tr>\n",
       "      <th>23</th>\n",
       "      <td>1241.716689</td>\n",
       "      <td>5744.721496</td>\n",
       "      <td>27129.377664</td>\n",
       "    </tr>\n",
       "    <tr>\n",
       "      <th>24</th>\n",
       "      <td>1235.369416</td>\n",
       "      <td>5509.491240</td>\n",
       "      <td>29378.048868</td>\n",
       "    </tr>\n",
       "    <tr>\n",
       "      <th>...</th>\n",
       "      <td>...</td>\n",
       "      <td>...</td>\n",
       "      <td>...</td>\n",
       "    </tr>\n",
       "    <tr>\n",
       "      <th>316</th>\n",
       "      <td>2261.121797</td>\n",
       "      <td>31045.356421</td>\n",
       "      <td>26917.670840</td>\n",
       "    </tr>\n",
       "    <tr>\n",
       "      <th>317</th>\n",
       "      <td>2201.296220</td>\n",
       "      <td>30392.050001</td>\n",
       "      <td>24472.366815</td>\n",
       "    </tr>\n",
       "    <tr>\n",
       "      <th>318</th>\n",
       "      <td>2193.689359</td>\n",
       "      <td>30069.033706</td>\n",
       "      <td>24152.267581</td>\n",
       "    </tr>\n",
       "    <tr>\n",
       "      <th>319</th>\n",
       "      <td>2120.332388</td>\n",
       "      <td>29045.331879</td>\n",
       "      <td>23852.068900</td>\n",
       "    </tr>\n",
       "    <tr>\n",
       "      <th>320</th>\n",
       "      <td>1967.809719</td>\n",
       "      <td>26873.185184</td>\n",
       "      <td>24121.571690</td>\n",
       "    </tr>\n",
       "  </tbody>\n",
       "</table>\n",
       "<p>301 rows × 3 columns</p>\n",
       "</div>"
      ],
      "text/plain": [
       "           Close         Close         Close\n",
       "20   1306.924796  11232.620807  18005.113157\n",
       "21   1289.025354   9630.189919  21946.191561\n",
       "22   1299.200320   7620.001283  24546.784557\n",
       "23   1241.716689   5744.721496  27129.377664\n",
       "24   1235.369416   5509.491240  29378.048868\n",
       "..           ...           ...           ...\n",
       "316  2261.121797  31045.356421  26917.670840\n",
       "317  2201.296220  30392.050001  24472.366815\n",
       "318  2193.689359  30069.033706  24152.267581\n",
       "319  2120.332388  29045.331879  23852.068900\n",
       "320  1967.809719  26873.185184  24121.571690\n",
       "\n",
       "[301 rows x 3 columns]"
      ]
     },
     "execution_count": 81,
     "metadata": {},
     "output_type": "execute_result"
    }
   ],
   "source": [
    "# Calculate rolling standard deviation\n",
    "\n",
    "stock_csv['Close'].std()*252\n",
    "\n",
    "# Plot rolling standard deviation\n",
    "stock_csv['Close'] = stock_csv['Close'].rolling(21).std()*252\n",
    "stock_csv[\"Close\"].dropna()"
   ]
  },
  {
   "cell_type": "markdown",
   "metadata": {},
   "source": [
    "### Calculate and plot the correlation"
   ]
  },
  {
   "cell_type": "code",
   "execution_count": 86,
   "metadata": {},
   "outputs": [
    {
     "data": {
      "text/plain": [
       "<AxesSubplot:>"
      ]
     },
     "execution_count": 86,
     "metadata": {},
     "output_type": "execute_result"
    },
    {
     "data": {
      "image/png": "[encoded data removed]",
      "text/plain": [
       "<Figure size 432x288 with 1 Axes>"
      ]
     },
     "metadata": {
      "needs_background": "light"
     },
     "output_type": "display_data"
    }
   ],
   "source": [
    "# Calculate and plot the correlation\n",
    "stock_csv.corr().plot()"
   ]
  },
  {
   "cell_type": "markdown",
   "metadata": {},
   "source": [
    "### Calculate and Plot Rolling 60-day Beta for Your Portfolio compared to the S&P 500"
   ]
  },
  {
   "cell_type": "code",
   "execution_count": 105,
   "metadata": {},
   "outputs": [
    {
     "name": "stderr",
     "output_type": "stream",
     "text": [
      "/var/folders/jl/7bykfdr560q50k3f7sc9xpfc0000gn/T/ipykernel_3144/3218258320.py:2: FutureWarning: Dropping of nuisance columns in DataFrame reductions (with 'numeric_only=None') is deprecated; in a future version this will raise TypeError.  Select only valid columns before calling the reduction.\n",
      "  Stock_csv_beta = stock_csv.var() / stock_csv.cov()\n"
     ]
    },
    {
     "data": {
      "text/plain": [
       "<AxesSubplot:xlabel='0'>"
      ]
     },
     "execution_count": 105,
     "metadata": {},
     "output_type": "execute_result"
    },
    {
     "data": {
      "image/png": "[encoded data removed]",
      "text/plain": [
       "<Figure size 432x288 with 1 Axes>"
      ]
     },
     "metadata": {
      "needs_background": "light"
     },
     "output_type": "display_data"
    }
   ],
   "source": [
    "# Calculate and plot Beta\n",
    "Stock_csv_beta = stock_csv.var() / stock_csv.cov()\n",
    "\n",
    "Stock_csv_beta.set_index([0]).plot()\n"
   ]
  },
  {
   "cell_type": "markdown",
   "metadata": {},
   "source": [
    "### Using the daily returns, calculate and visualize the Sharpe ratios using a bar plot"
   ]
  },
  {
   "cell_type": "code",
   "execution_count": 109,
   "metadata": {},
   "outputs": [
    {
     "name": "stderr",
     "output_type": "stream",
     "text": [
      "/var/folders/jl/7bykfdr560q50k3f7sc9xpfc0000gn/T/ipykernel_3144/1091760300.py:2: FutureWarning: Dropping of nuisance columns in DataFrame reductions (with 'numeric_only=None') is deprecated; in a future version this will raise TypeError.  Select only valid columns before calling the reduction.\n",
      "  stock_sharpe = stock_csv.mean() / stock_csv.std() * 252\n"
     ]
    },
    {
     "data": {
      "text/plain": [
       "0         16.943615\n",
       "Close    594.405480\n",
       "Close    400.777317\n",
       "Close    663.878233\n",
       "dtype: float64"
      ]
     },
     "execution_count": 109,
     "metadata": {},
     "output_type": "execute_result"
    }
   ],
   "source": [
    "# Calculate Annualized Sharpe Ratios\n",
    "stock_sharpe = stock_csv.mean() / stock_csv.std() * 252\n",
    "\n",
    "stock_sharpe"
   ]
  },
  {
   "cell_type": "code",
   "execution_count": 110,
   "metadata": {},
   "outputs": [
    {
     "data": {
      "text/plain": [
       "<AxesSubplot:>"
      ]
     },
     "execution_count": 110,
     "metadata": {},
     "output_type": "execute_result"
    },
    {
     "data": {
      "image/png": "[encoded data removed]",
      "text/plain": [
       "<Figure size 432x288 with 1 Axes>"
      ]
     },
     "metadata": {
      "needs_background": "light"
     },
     "output_type": "display_data"
    }
   ],
   "source": [
    "# Visualize the sharpe ratios as a bar plot\n",
    "\n",
    "stock_sharpe.plot.bar()"
   ]
  },
  {
   "cell_type": "markdown",
   "metadata": {},
   "source": [
    "### How does your portfolio do?\n",
    "\n",
    "Write your answer here!"
   ]
  },
  {
   "cell_type": "markdown",
   "metadata": {},
   "source": [
    "All 3 of the stocks used to build the portfolio have drastically out paced the SP500. "
   ]
  }
 ],
 "metadata": {
  "file_extension": ".py",
  "kernelspec": {
   "display_name": "Python 3",
   "language": "python",
   "name": "python3"
  },
  "language_info": {
   "codemirror_mode": {
    "name": "ipython",
    "version": 3
   },
   "file_extension": ".py",
   "mimetype": "text/x-python",
   "name": "python",
   "nbconvert_exporter": "python",
   "pygments_lexer": "ipython3",
   "version": "3.9.7"
  },
  "mimetype": "text/x-python",
  "name": "python",
  "npconvert_exporter": "python",
  "pygments_lexer": "ipython3",
  "version": 3
 },
 "nbformat": 4,
 "nbformat_minor": 4
}
